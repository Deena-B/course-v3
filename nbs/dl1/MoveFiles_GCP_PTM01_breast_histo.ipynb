{
 "cells": [
  {
   "cell_type": "markdown",
   "metadata": {},
   "source": [
    "# Move data into two folders: class0 or class1"
   ]
  },
  {
   "cell_type": "code",
   "execution_count": 1,
   "metadata": {},
   "outputs": [],
   "source": [
    "from fastai import *\n",
    "from fastai.vision import *"
   ]
  },
  {
   "cell_type": "code",
   "execution_count": 2,
   "metadata": {},
   "outputs": [
    {
     "data": {
      "text/plain": [
       "'/home/jupyter/tutorials/fastai/course-v3/nbs/dl1'"
      ]
     },
     "execution_count": 2,
     "metadata": {},
     "output_type": "execute_result"
    }
   ],
   "source": [
    "pwd"
   ]
  },
  {
   "cell_type": "code",
   "execution_count": 3,
   "metadata": {},
   "outputs": [
    {
     "name": "stdout",
     "output_type": "stream",
     "text": [
      "/home/jupyter/tutorials/fastai/course-v3/data_GPU\n"
     ]
    }
   ],
   "source": [
    "# change to appropriate directory\n",
    "%cd ~/tutorials/fastai/course-v3/data_GPU/"
   ]
  },
  {
   "cell_type": "code",
   "execution_count": 5,
   "metadata": {},
   "outputs": [],
   "source": [
    "%mkdir after zips"
   ]
  },
  {
   "cell_type": "code",
   "execution_count": 6,
   "metadata": {},
   "outputs": [
    {
     "name": "stdout",
     "output_type": "stream",
     "text": [
      "\u001b[0m\u001b[01;34mafter\u001b[0m/  \u001b[01;34mhisto\u001b[0m/  \u001b[01;34mzips\u001b[0m/\r\n"
     ]
    }
   ],
   "source": [
    "ls"
   ]
  },
  {
   "cell_type": "code",
   "execution_count": 7,
   "metadata": {},
   "outputs": [
    {
     "name": "stdout",
     "output_type": "stream",
     "text": [
      "/home/jupyter/tutorials/fastai/course-v3/data_GPU/histo\n"
     ]
    }
   ],
   "source": [
    "cd histo/"
   ]
  },
  {
   "cell_type": "code",
   "execution_count": 8,
   "metadata": {},
   "outputs": [
    {
     "name": "stdout",
     "output_type": "stream",
     "text": [
      "\u001b[0m\u001b[01;34m10253\u001b[0m/  \u001b[01;34m12242\u001b[0m/  \u001b[01;34m12895\u001b[0m/  \u001b[01;34m13459\u001b[0m/  \u001b[01;34m15472\u001b[0m/  \u001b[01;34m8916\u001b[0m/  \u001b[01;34m9225\u001b[0m/\r\n",
      "\u001b[01;34m10254\u001b[0m/  \u001b[01;34m12626\u001b[0m/  \u001b[01;34m12896\u001b[0m/  \u001b[01;34m13460\u001b[0m/  \u001b[01;34m15473\u001b[0m/  \u001b[01;34m8917\u001b[0m/  \u001b[01;34m9226\u001b[0m/\r\n",
      "\u001b[01;34m10255\u001b[0m/  \u001b[01;34m12748\u001b[0m/  \u001b[01;34m12897\u001b[0m/  \u001b[01;34m13461\u001b[0m/  \u001b[01;34m15510\u001b[0m/  \u001b[01;34m8918\u001b[0m/  \u001b[01;34m9227\u001b[0m/\r\n",
      "\u001b[01;34m10256\u001b[0m/  \u001b[01;34m12749\u001b[0m/  \u001b[01;34m12898\u001b[0m/  \u001b[01;34m13462\u001b[0m/  \u001b[01;34m15512\u001b[0m/  \u001b[01;34m8950\u001b[0m/  \u001b[01;34m9228\u001b[0m/\r\n",
      "\u001b[01;34m10257\u001b[0m/  \u001b[01;34m12750\u001b[0m/  \u001b[01;34m12900\u001b[0m/  \u001b[01;34m13591\u001b[0m/  \u001b[01;34m15513\u001b[0m/  \u001b[01;34m8951\u001b[0m/  \u001b[01;34m9250\u001b[0m/\r\n",
      "\u001b[01;34m10258\u001b[0m/  \u001b[01;34m12751\u001b[0m/  \u001b[01;34m12901\u001b[0m/  \u001b[01;34m13613\u001b[0m/  \u001b[01;34m15514\u001b[0m/  \u001b[01;34m8955\u001b[0m/  \u001b[01;34m9254\u001b[0m/\r\n",
      "\u001b[01;34m10259\u001b[0m/  \u001b[01;34m12752\u001b[0m/  \u001b[01;34m12905\u001b[0m/  \u001b[01;34m13616\u001b[0m/  \u001b[01;34m15515\u001b[0m/  \u001b[01;34m8956\u001b[0m/  \u001b[01;34m9255\u001b[0m/\r\n",
      "\u001b[01;34m10260\u001b[0m/  \u001b[01;34m12810\u001b[0m/  \u001b[01;34m12906\u001b[0m/  \u001b[01;34m13617\u001b[0m/  \u001b[01;34m15516\u001b[0m/  \u001b[01;34m8957\u001b[0m/  \u001b[01;34m9256\u001b[0m/\r\n",
      "\u001b[01;34m10261\u001b[0m/  \u001b[01;34m12811\u001b[0m/  \u001b[01;34m12907\u001b[0m/  \u001b[01;34m13666\u001b[0m/  \u001b[01;34m15632\u001b[0m/  \u001b[01;34m8959\u001b[0m/  \u001b[01;34m9257\u001b[0m/\r\n",
      "\u001b[01;34m10262\u001b[0m/  \u001b[01;34m12817\u001b[0m/  \u001b[01;34m12908\u001b[0m/  \u001b[01;34m13687\u001b[0m/  \u001b[01;34m15633\u001b[0m/  \u001b[01;34m8974\u001b[0m/  \u001b[01;34m9258\u001b[0m/\r\n",
      "\u001b[01;34m10264\u001b[0m/  \u001b[01;34m12818\u001b[0m/  \u001b[01;34m12909\u001b[0m/  \u001b[01;34m13688\u001b[0m/  \u001b[01;34m15634\u001b[0m/  \u001b[01;34m8975\u001b[0m/  \u001b[01;34m9259\u001b[0m/\r\n",
      "\u001b[01;34m10268\u001b[0m/  \u001b[01;34m12819\u001b[0m/  \u001b[01;34m12910\u001b[0m/  \u001b[01;34m13689\u001b[0m/  \u001b[01;34m15839\u001b[0m/  \u001b[01;34m8980\u001b[0m/  \u001b[01;34m9260\u001b[0m/\r\n",
      "\u001b[01;34m10269\u001b[0m/  \u001b[01;34m12820\u001b[0m/  \u001b[01;34m12911\u001b[0m/  \u001b[01;34m13691\u001b[0m/  \u001b[01;34m15840\u001b[0m/  \u001b[01;34m8984\u001b[0m/  \u001b[01;34m9261\u001b[0m/\r\n",
      "\u001b[01;34m10272\u001b[0m/  \u001b[01;34m12821\u001b[0m/  \u001b[01;34m12929\u001b[0m/  \u001b[01;34m13692\u001b[0m/  \u001b[01;34m15902\u001b[0m/  \u001b[01;34m9022\u001b[0m/  \u001b[01;34m9262\u001b[0m/\r\n",
      "\u001b[01;34m10273\u001b[0m/  \u001b[01;34m12822\u001b[0m/  \u001b[01;34m12930\u001b[0m/  \u001b[01;34m13693\u001b[0m/  \u001b[01;34m15903\u001b[0m/  \u001b[01;34m9023\u001b[0m/  \u001b[01;34m9265\u001b[0m/\r\n",
      "\u001b[01;34m10274\u001b[0m/  \u001b[01;34m12823\u001b[0m/  \u001b[01;34m12931\u001b[0m/  \u001b[01;34m13694\u001b[0m/  \u001b[01;34m16014\u001b[0m/  \u001b[01;34m9029\u001b[0m/  \u001b[01;34m9266\u001b[0m/\r\n",
      "\u001b[01;34m10275\u001b[0m/  \u001b[01;34m12824\u001b[0m/  \u001b[01;34m12932\u001b[0m/  \u001b[01;34m13916\u001b[0m/  \u001b[01;34m16085\u001b[0m/  \u001b[01;34m9035\u001b[0m/  \u001b[01;34m9267\u001b[0m/\r\n",
      "\u001b[01;34m10276\u001b[0m/  \u001b[01;34m12826\u001b[0m/  \u001b[01;34m12933\u001b[0m/  \u001b[01;34m14078\u001b[0m/  \u001b[01;34m16165\u001b[0m/  \u001b[01;34m9036\u001b[0m/  \u001b[01;34m9290\u001b[0m/\r\n",
      "\u001b[01;34m10277\u001b[0m/  \u001b[01;34m12867\u001b[0m/  \u001b[01;34m12934\u001b[0m/  \u001b[01;34m14079\u001b[0m/  \u001b[01;34m16166\u001b[0m/  \u001b[01;34m9037\u001b[0m/  \u001b[01;34m9291\u001b[0m/\r\n",
      "\u001b[01;34m10278\u001b[0m/  \u001b[01;34m12868\u001b[0m/  \u001b[01;34m12935\u001b[0m/  \u001b[01;34m14081\u001b[0m/  \u001b[01;34m16167\u001b[0m/  \u001b[01;34m9041\u001b[0m/  \u001b[01;34m9319\u001b[0m/\r\n",
      "\u001b[01;34m10279\u001b[0m/  \u001b[01;34m12869\u001b[0m/  \u001b[01;34m12947\u001b[0m/  \u001b[01;34m14082\u001b[0m/  \u001b[01;34m16531\u001b[0m/  \u001b[01;34m9043\u001b[0m/  \u001b[01;34m9320\u001b[0m/\r\n",
      "\u001b[01;34m10282\u001b[0m/  \u001b[01;34m12870\u001b[0m/  \u001b[01;34m12948\u001b[0m/  \u001b[01;34m14153\u001b[0m/  \u001b[01;34m16532\u001b[0m/  \u001b[01;34m9044\u001b[0m/  \u001b[01;34m9321\u001b[0m/\r\n",
      "\u001b[01;34m10285\u001b[0m/  \u001b[01;34m12871\u001b[0m/  \u001b[01;34m12949\u001b[0m/  \u001b[01;34m14154\u001b[0m/  \u001b[01;34m16533\u001b[0m/  \u001b[01;34m9073\u001b[0m/  \u001b[01;34m9322\u001b[0m/\r\n",
      "\u001b[01;34m10286\u001b[0m/  \u001b[01;34m12872\u001b[0m/  \u001b[01;34m12951\u001b[0m/  \u001b[01;34m14155\u001b[0m/  \u001b[01;34m16534\u001b[0m/  \u001b[01;34m9075\u001b[0m/  \u001b[01;34m9323\u001b[0m/\r\n",
      "\u001b[01;34m10288\u001b[0m/  \u001b[01;34m12873\u001b[0m/  \u001b[01;34m12954\u001b[0m/  \u001b[01;34m14156\u001b[0m/  \u001b[01;34m16550\u001b[0m/  \u001b[01;34m9076\u001b[0m/  \u001b[01;34m9324\u001b[0m/\r\n",
      "\u001b[01;34m10290\u001b[0m/  \u001b[01;34m12875\u001b[0m/  \u001b[01;34m12955\u001b[0m/  \u001b[01;34m14157\u001b[0m/  \u001b[01;34m16551\u001b[0m/  \u001b[01;34m9077\u001b[0m/  \u001b[01;34m9325\u001b[0m/\r\n",
      "\u001b[01;34m10291\u001b[0m/  \u001b[01;34m12876\u001b[0m/  \u001b[01;34m13018\u001b[0m/  \u001b[01;34m14188\u001b[0m/  \u001b[01;34m16552\u001b[0m/  \u001b[01;34m9078\u001b[0m/  \u001b[01;34m9344\u001b[0m/\r\n",
      "\u001b[01;34m10292\u001b[0m/  \u001b[01;34m12877\u001b[0m/  \u001b[01;34m13019\u001b[0m/  \u001b[01;34m14189\u001b[0m/  \u001b[01;34m16553\u001b[0m/  \u001b[01;34m9081\u001b[0m/  \u001b[01;34m9345\u001b[0m/\r\n",
      "\u001b[01;34m10293\u001b[0m/  \u001b[01;34m12878\u001b[0m/  \u001b[01;34m13020\u001b[0m/  \u001b[01;34m14190\u001b[0m/  \u001b[01;34m16554\u001b[0m/  \u001b[01;34m9083\u001b[0m/  \u001b[01;34m9346\u001b[0m/\r\n",
      "\u001b[01;34m10295\u001b[0m/  \u001b[01;34m12879\u001b[0m/  \u001b[01;34m13021\u001b[0m/  \u001b[01;34m14191\u001b[0m/  \u001b[01;34m16555\u001b[0m/  \u001b[01;34m9123\u001b[0m/  \u001b[01;34m9347\u001b[0m/\r\n",
      "\u001b[01;34m10299\u001b[0m/  \u001b[01;34m12880\u001b[0m/  \u001b[01;34m13022\u001b[0m/  \u001b[01;34m14192\u001b[0m/  \u001b[01;34m16568\u001b[0m/  \u001b[01;34m9124\u001b[0m/  \u001b[01;34m9381\u001b[0m/\r\n",
      "\u001b[01;34m10300\u001b[0m/  \u001b[01;34m12881\u001b[0m/  \u001b[01;34m13023\u001b[0m/  \u001b[01;34m14209\u001b[0m/  \u001b[01;34m16569\u001b[0m/  \u001b[01;34m9125\u001b[0m/  \u001b[01;34m9382\u001b[0m/\r\n",
      "\u001b[01;34m10301\u001b[0m/  \u001b[01;34m12882\u001b[0m/  \u001b[01;34m13024\u001b[0m/  \u001b[01;34m14210\u001b[0m/  \u001b[01;34m16570\u001b[0m/  \u001b[01;34m9126\u001b[0m/  \u001b[01;34m9383\u001b[0m/\r\n",
      "\u001b[01;34m10302\u001b[0m/  \u001b[01;34m12883\u001b[0m/  \u001b[01;34m13025\u001b[0m/  \u001b[01;34m14211\u001b[0m/  \u001b[01;34m16895\u001b[0m/  \u001b[01;34m9135\u001b[0m/  breast-histopathology-images.zip\r\n",
      "\u001b[01;34m10303\u001b[0m/  \u001b[01;34m12884\u001b[0m/  \u001b[01;34m13106\u001b[0m/  \u001b[01;34m14212\u001b[0m/  \u001b[01;34m16896\u001b[0m/  \u001b[01;34m9173\u001b[0m/  IDC_regular_ps50_idx5.zip\r\n",
      "\u001b[01;34m10304\u001b[0m/  \u001b[01;34m12886\u001b[0m/  \u001b[01;34m13400\u001b[0m/  \u001b[01;34m14213\u001b[0m/  \u001b[01;34m8863\u001b[0m/   \u001b[01;34m9174\u001b[0m/\r\n",
      "\u001b[01;34m10305\u001b[0m/  \u001b[01;34m12890\u001b[0m/  \u001b[01;34m13401\u001b[0m/  \u001b[01;34m14304\u001b[0m/  \u001b[01;34m8864\u001b[0m/   \u001b[01;34m9175\u001b[0m/\r\n",
      "\u001b[01;34m10306\u001b[0m/  \u001b[01;34m12891\u001b[0m/  \u001b[01;34m13402\u001b[0m/  \u001b[01;34m14305\u001b[0m/  \u001b[01;34m8865\u001b[0m/   \u001b[01;34m9176\u001b[0m/\r\n",
      "\u001b[01;34m10307\u001b[0m/  \u001b[01;34m12892\u001b[0m/  \u001b[01;34m13403\u001b[0m/  \u001b[01;34m14306\u001b[0m/  \u001b[01;34m8867\u001b[0m/   \u001b[01;34m9177\u001b[0m/\r\n",
      "\u001b[01;34m10308\u001b[0m/  \u001b[01;34m12893\u001b[0m/  \u001b[01;34m13404\u001b[0m/  \u001b[01;34m14321\u001b[0m/  \u001b[01;34m8913\u001b[0m/   \u001b[01;34m9178\u001b[0m/\r\n",
      "\u001b[01;34m12241\u001b[0m/  \u001b[01;34m12894\u001b[0m/  \u001b[01;34m13458\u001b[0m/  \u001b[01;34m15471\u001b[0m/  \u001b[01;34m8914\u001b[0m/   \u001b[01;34m9181\u001b[0m/\r\n"
     ]
    }
   ],
   "source": [
    "ls"
   ]
  },
  {
   "cell_type": "code",
   "execution_count": 12,
   "metadata": {},
   "outputs": [
    {
     "name": "stdout",
     "output_type": "stream",
     "text": [
      "/home/jupyter/tutorials/fastai/course-v3/data_GPU\n"
     ]
    }
   ],
   "source": [
    "cd ~/tutorials/fastai/course-v3/data_GPU"
   ]
  },
  {
   "cell_type": "code",
   "execution_count": 13,
   "metadata": {},
   "outputs": [],
   "source": [
    "!mv histo/breast-histopathology-images.zip zips/breast-histopathology-images.zip"
   ]
  },
  {
   "cell_type": "code",
   "execution_count": 14,
   "metadata": {},
   "outputs": [],
   "source": [
    "!mv histo/IDC_regular_ps50_idx5.zip zips/IDC_regular_ps50_idx5.zip"
   ]
  },
  {
   "cell_type": "code",
   "execution_count": 15,
   "metadata": {},
   "outputs": [],
   "source": [
    "!mv histo before"
   ]
  },
  {
   "cell_type": "code",
   "execution_count": 16,
   "metadata": {},
   "outputs": [
    {
     "name": "stdout",
     "output_type": "stream",
     "text": [
      "\u001b[0m\u001b[01;34mafter\u001b[0m/  \u001b[01;34mbefore\u001b[0m/  \u001b[01;34mzips\u001b[0m/\r\n"
     ]
    }
   ],
   "source": [
    "ls"
   ]
  },
  {
   "cell_type": "code",
   "execution_count": 17,
   "metadata": {},
   "outputs": [
    {
     "name": "stdout",
     "output_type": "stream",
     "text": [
      "/home/jupyter/tutorials/fastai/course-v3\n"
     ]
    }
   ],
   "source": [
    "cd .."
   ]
  },
  {
   "cell_type": "code",
   "execution_count": 18,
   "metadata": {},
   "outputs": [
    {
     "name": "stdout",
     "output_type": "stream",
     "text": [
      "azure-pipelines.yml  \u001b[0m\u001b[01;34mdocs\u001b[0m/                   floyd.yml  \u001b[01;34mnbs\u001b[0m/       \u001b[01;34mtools\u001b[0m/\r\n",
      "\u001b[01;34mdata_GPU\u001b[0m/            floyd_requirements.txt  LICENSE    README.md\r\n"
     ]
    }
   ],
   "source": [
    "ls"
   ]
  },
  {
   "cell_type": "code",
   "execution_count": 19,
   "metadata": {},
   "outputs": [],
   "source": [
    "%mkdir data"
   ]
  },
  {
   "cell_type": "code",
   "execution_count": 20,
   "metadata": {},
   "outputs": [],
   "source": [
    "!mv data_GPU data/PTM01_BreastHisto"
   ]
  },
  {
   "cell_type": "code",
   "execution_count": 21,
   "metadata": {},
   "outputs": [
    {
     "name": "stdout",
     "output_type": "stream",
     "text": [
      "azure-pipelines.yml  \u001b[0m\u001b[01;34mdocs\u001b[0m/                   floyd.yml  \u001b[01;34mnbs\u001b[0m/       \u001b[01;34mtools\u001b[0m/\r\n",
      "\u001b[01;34mdata\u001b[0m/                floyd_requirements.txt  LICENSE    README.md\r\n"
     ]
    }
   ],
   "source": [
    "ls"
   ]
  },
  {
   "cell_type": "code",
   "execution_count": 22,
   "metadata": {},
   "outputs": [],
   "source": [
    "!mv data data_GPU"
   ]
  },
  {
   "cell_type": "code",
   "execution_count": 23,
   "metadata": {},
   "outputs": [
    {
     "name": "stdout",
     "output_type": "stream",
     "text": [
      "/home/jupyter/tutorials/fastai/course-v3/data_GPU\n"
     ]
    }
   ],
   "source": [
    "cd data_GPU/"
   ]
  },
  {
   "cell_type": "code",
   "execution_count": 24,
   "metadata": {},
   "outputs": [
    {
     "name": "stdout",
     "output_type": "stream",
     "text": [
      "\u001b[0m\u001b[01;34mPTM01_BreastHisto\u001b[0m/\r\n"
     ]
    }
   ],
   "source": [
    "ls"
   ]
  },
  {
   "cell_type": "code",
   "execution_count": 25,
   "metadata": {},
   "outputs": [
    {
     "name": "stdout",
     "output_type": "stream",
     "text": [
      "/home/jupyter/tutorials/fastai/course-v3/data_GPU/PTM01_BreastHisto\n"
     ]
    }
   ],
   "source": [
    "cd PTM01_BreastHisto/"
   ]
  },
  {
   "cell_type": "code",
   "execution_count": 26,
   "metadata": {},
   "outputs": [
    {
     "name": "stdout",
     "output_type": "stream",
     "text": [
      "\u001b[0m\u001b[01;34mafter\u001b[0m/  \u001b[01;34mbefore\u001b[0m/  \u001b[01;34mzips\u001b[0m/\r\n"
     ]
    }
   ],
   "source": [
    "ls"
   ]
  },
  {
   "cell_type": "code",
   "execution_count": 27,
   "metadata": {},
   "outputs": [
    {
     "name": "stdout",
     "output_type": "stream",
     "text": [
      "/home/jupyter/tutorials/fastai/course-v3/data_GPU/PTM01_BreastHisto/after\n"
     ]
    }
   ],
   "source": [
    "cd after"
   ]
  },
  {
   "cell_type": "code",
   "execution_count": 28,
   "metadata": {},
   "outputs": [],
   "source": [
    "mkdir class0 class1"
   ]
  },
  {
   "cell_type": "code",
   "execution_count": 29,
   "metadata": {},
   "outputs": [
    {
     "name": "stdout",
     "output_type": "stream",
     "text": [
      "\u001b[0m\u001b[01;34mclass0\u001b[0m/  \u001b[01;34mclass1\u001b[0m/\r\n"
     ]
    }
   ],
   "source": [
    "ls"
   ]
  },
  {
   "cell_type": "code",
   "execution_count": 30,
   "metadata": {},
   "outputs": [
    {
     "name": "stdout",
     "output_type": "stream",
     "text": [
      "/home/jupyter/tutorials/fastai/course-v3/data_GPU/PTM01_BreastHisto\n"
     ]
    }
   ],
   "source": [
    "cd .."
   ]
  },
  {
   "cell_type": "code",
   "execution_count": 31,
   "metadata": {},
   "outputs": [
    {
     "name": "stdout",
     "output_type": "stream",
     "text": [
      "/home/jupyter/tutorials/fastai/course-v3/data_GPU/PTM01_BreastHisto/before\n"
     ]
    }
   ],
   "source": [
    "# change into before directory\n",
    "%cd ~/tutorials/fastai/course-v3/data_GPU/PTM01_BreastHisto/before"
   ]
  },
  {
   "cell_type": "code",
   "execution_count": 32,
   "metadata": {},
   "outputs": [],
   "source": [
    "# make sure you are in the folder with all the patient parent files\n",
    "PosixPaths0 = list(Path('.').rglob(\"*class0.png\"))"
   ]
  },
  {
   "cell_type": "code",
   "execution_count": 33,
   "metadata": {},
   "outputs": [
    {
     "name": "stdout",
     "output_type": "stream",
     "text": [
      "/home/jupyter/tutorials/fastai/course-v3/data_GPU/PTM01_BreastHisto\n"
     ]
    }
   ],
   "source": [
    "%cd ~/tutorials/fastai/course-v3/data_GPU/PTM01_BreastHisto/"
   ]
  },
  {
   "cell_type": "code",
   "execution_count": 34,
   "metadata": {},
   "outputs": [
    {
     "name": "stdout",
     "output_type": "stream",
     "text": [
      "after  before  zips\r\n"
     ]
    }
   ],
   "source": [
    "# make sure you are in the folder with before & after (and class) folders\n",
    "!ls"
   ]
  },
  {
   "cell_type": "code",
   "execution_count": 35,
   "metadata": {},
   "outputs": [
    {
     "name": "stdout",
     "output_type": "stream",
     "text": [
      "class0\tclass1\r\n"
     ]
    }
   ],
   "source": [
    "!ls after"
   ]
  },
  {
   "cell_type": "code",
   "execution_count": 37,
   "metadata": {},
   "outputs": [],
   "source": [
    "def MoveFiles0():\n",
    "    for p in PosixPaths0:\n",
    "        os.rename('before/%s'%(p), 'after/class0/%s'%(p.name))"
   ]
  },
  {
   "cell_type": "code",
   "execution_count": 38,
   "metadata": {},
   "outputs": [],
   "source": [
    "MoveFiles0()"
   ]
  },
  {
   "cell_type": "markdown",
   "metadata": {},
   "source": [
    "## Move class1 files"
   ]
  },
  {
   "cell_type": "code",
   "execution_count": 39,
   "metadata": {},
   "outputs": [
    {
     "name": "stdout",
     "output_type": "stream",
     "text": [
      "/home/jupyter/tutorials/fastai/course-v3/data_GPU/PTM01_BreastHisto/before\n"
     ]
    }
   ],
   "source": [
    "# change into before directory\n",
    "%cd ~/tutorials/fastai/course-v3/data_GPU/PTM01_BreastHisto/before"
   ]
  },
  {
   "cell_type": "code",
   "execution_count": 40,
   "metadata": {},
   "outputs": [],
   "source": [
    "# make sure you are in the folder with all the patient parent files\n",
    "PosixPaths1 = list(Path('.').rglob(\"*class1.png\"))"
   ]
  },
  {
   "cell_type": "code",
   "execution_count": 41,
   "metadata": {},
   "outputs": [
    {
     "name": "stdout",
     "output_type": "stream",
     "text": [
      "/home/jupyter/tutorials/fastai/course-v3/data_GPU/PTM01_BreastHisto\n"
     ]
    }
   ],
   "source": [
    "%cd ~/tutorials/fastai/course-v3/data_GPU/PTM01_BreastHisto/"
   ]
  },
  {
   "cell_type": "code",
   "execution_count": 42,
   "metadata": {},
   "outputs": [
    {
     "name": "stdout",
     "output_type": "stream",
     "text": [
      "\u001b[0m\u001b[01;34mafter\u001b[0m/  \u001b[01;34mbefore\u001b[0m/  \u001b[01;34mzips\u001b[0m/\r\n"
     ]
    }
   ],
   "source": [
    "ls"
   ]
  },
  {
   "cell_type": "code",
   "execution_count": 43,
   "metadata": {},
   "outputs": [],
   "source": [
    "def MoveFiles1():\n",
    "    for p in PosixPaths1:\n",
    "        os.rename('before/%s'%(p), 'after/class1/%s'%(p.name))"
   ]
  },
  {
   "cell_type": "code",
   "execution_count": 44,
   "metadata": {},
   "outputs": [],
   "source": [
    "MoveFiles1()"
   ]
  },
  {
   "cell_type": "code",
   "execution_count": null,
   "metadata": {},
   "outputs": [],
   "source": []
  },
  {
   "cell_type": "code",
   "execution_count": null,
   "metadata": {},
   "outputs": [],
   "source": []
  },
  {
   "cell_type": "code",
   "execution_count": null,
   "metadata": {},
   "outputs": [],
   "source": []
  },
  {
   "cell_type": "code",
   "execution_count": null,
   "metadata": {},
   "outputs": [],
   "source": []
  },
  {
   "cell_type": "code",
   "execution_count": null,
   "metadata": {},
   "outputs": [],
   "source": []
  },
  {
   "cell_type": "markdown",
   "metadata": {},
   "source": [
    "# w/Calvin"
   ]
  },
  {
   "cell_type": "code",
   "execution_count": null,
   "metadata": {},
   "outputs": [],
   "source": [
    "from fastai import *\n",
    "from fastai.vision import *"
   ]
  },
  {
   "cell_type": "code",
   "execution_count": null,
   "metadata": {},
   "outputs": [],
   "source": [
    "# make sure you are in the right folder"
   ]
  },
  {
   "cell_type": "code",
   "execution_count": null,
   "metadata": {},
   "outputs": [],
   "source": [
    "# create list\n",
    "PosixPaths_list = list(Path(\".\").glob(\"*.png\"))"
   ]
  },
  {
   "cell_type": "code",
   "execution_count": null,
   "metadata": {},
   "outputs": [],
   "source": [
    "PosixPaths[0].rename('./class/class1.png')"
   ]
  },
  {
   "cell_type": "code",
   "execution_count": null,
   "metadata": {},
   "outputs": [],
   "source": [
    "len(PosixPaths_list)"
   ]
  },
  {
   "cell_type": "code",
   "execution_count": null,
   "metadata": {},
   "outputs": [],
   "source": [
    "PosixPaths_list[:10]"
   ]
  },
  {
   "cell_type": "code",
   "execution_count": null,
   "metadata": {},
   "outputs": [],
   "source": []
  },
  {
   "cell_type": "code",
   "execution_count": null,
   "metadata": {},
   "outputs": [],
   "source": []
  },
  {
   "cell_type": "code",
   "execution_count": null,
   "metadata": {},
   "outputs": [],
   "source": [
    "# make sure you are in the right folder\n",
    "for file in PosixPaths_list:\n",
    "    filename = file.name\n",
    "    if 'class0' in filename\n",
    "        file.rename('./class0' + \"/\" + filename)\n",
    "        \n",
    "    if 'class1' in filname\n",
    "        file.rename('./class0' + \"/\" + filename)\n",
    "        \n",
    "    \n",
    "    \n",
    "    \n",
    "    \n",
    "    "
   ]
  },
  {
   "cell_type": "code",
   "execution_count": null,
   "metadata": {},
   "outputs": [],
   "source": []
  },
  {
   "cell_type": "code",
   "execution_count": null,
   "metadata": {},
   "outputs": [],
   "source": []
  },
  {
   "cell_type": "code",
   "execution_count": null,
   "metadata": {},
   "outputs": [],
   "source": []
  },
  {
   "cell_type": "code",
   "execution_count": null,
   "metadata": {},
   "outputs": [],
   "source": [
    "# to see image in bash\n",
    "image cat - "
   ]
  },
  {
   "cell_type": "code",
   "execution_count": null,
   "metadata": {},
   "outputs": [],
   "source": []
  },
  {
   "cell_type": "code",
   "execution_count": null,
   "metadata": {},
   "outputs": [],
   "source": [
    "ls */0"
   ]
  },
  {
   "cell_type": "code",
   "execution_count": null,
   "metadata": {},
   "outputs": [],
   "source": [
    "mkdir noncancer"
   ]
  },
  {
   "cell_type": "code",
   "execution_count": null,
   "metadata": {},
   "outputs": [],
   "source": [
    "mv */0 noncancer"
   ]
  },
  {
   "cell_type": "code",
   "execution_count": null,
   "metadata": {},
   "outputs": [],
   "source": []
  }
 ],
 "metadata": {
  "kernelspec": {
   "display_name": "Python 3",
   "language": "python",
   "name": "python3"
  },
  "language_info": {
   "codemirror_mode": {
    "name": "ipython",
    "version": 3
   },
   "file_extension": ".py",
   "mimetype": "text/x-python",
   "name": "python",
   "nbconvert_exporter": "python",
   "pygments_lexer": "ipython3",
   "version": "3.7.0"
  }
 },
 "nbformat": 4,
 "nbformat_minor": 2
}
