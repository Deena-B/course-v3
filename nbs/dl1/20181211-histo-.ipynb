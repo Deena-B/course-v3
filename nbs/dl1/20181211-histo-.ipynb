{
 "cells": [
  {
   "cell_type": "markdown",
   "metadata": {},
   "source": [
    "# Make a df with histo images"
   ]
  },
  {
   "cell_type": "code",
   "execution_count": 1,
   "metadata": {},
   "outputs": [],
   "source": [
    "%reload_ext autoreload\n",
    "%autoreload 2\n",
    "%matplotlib inline"
   ]
  },
  {
   "cell_type": "code",
   "execution_count": 2,
   "metadata": {},
   "outputs": [],
   "source": [
    "from fastai import *\n",
    "from fastai.vision import *"
   ]
  },
  {
   "cell_type": "code",
   "execution_count": 3,
   "metadata": {},
   "outputs": [
    {
     "data": {
      "text/plain": [
       "'/home/ubuntu/course-v3/nbs/dl1'"
      ]
     },
     "execution_count": 3,
     "metadata": {},
     "output_type": "execute_result"
    }
   ],
   "source": [
    "pwd"
   ]
  },
  {
   "cell_type": "code",
   "execution_count": 4,
   "metadata": {},
   "outputs": [
    {
     "name": "stdout",
     "output_type": "stream",
     "text": [
      "/home/ubuntu/course-v3\n"
     ]
    }
   ],
   "source": [
    "cd ~/course-v3"
   ]
  },
  {
   "cell_type": "code",
   "execution_count": 5,
   "metadata": {},
   "outputs": [
    {
     "name": "stdout",
     "output_type": "stream",
     "text": [
      "LICENSE    azure-pipelines.yml  \u001b[0m\u001b[01;34mdocs\u001b[0m/   floyd.yml               \u001b[01;34mmodels\u001b[0m/  \u001b[01;34mtools\u001b[0m/\r\n",
      "README.md  \u001b[01;34mdata_GPU\u001b[0m/            \u001b[01;34mfiles\u001b[0m/  floyd_requirements.txt  \u001b[01;34mnbs\u001b[0m/\r\n"
     ]
    }
   ],
   "source": [
    "ls"
   ]
  },
  {
   "cell_type": "code",
   "execution_count": 6,
   "metadata": {},
   "outputs": [
    {
     "name": "stdout",
     "output_type": "stream",
     "text": [
      "\u001b[0m\u001b[01;34m10253\u001b[0m/  \u001b[01;34m12242\u001b[0m/  \u001b[01;34m12895\u001b[0m/  \u001b[01;34m13459\u001b[0m/  \u001b[01;34m15472\u001b[0m/  \u001b[01;34m8916\u001b[0m/  \u001b[01;34m9225\u001b[0m/\r\n",
      "\u001b[01;34m10254\u001b[0m/  \u001b[01;34m12626\u001b[0m/  \u001b[01;34m12896\u001b[0m/  \u001b[01;34m13460\u001b[0m/  \u001b[01;34m15473\u001b[0m/  \u001b[01;34m8917\u001b[0m/  \u001b[01;34m9226\u001b[0m/\r\n",
      "\u001b[01;34m10255\u001b[0m/  \u001b[01;34m12748\u001b[0m/  \u001b[01;34m12897\u001b[0m/  \u001b[01;34m13461\u001b[0m/  \u001b[01;34m15510\u001b[0m/  \u001b[01;34m8918\u001b[0m/  \u001b[01;34m9227\u001b[0m/\r\n",
      "\u001b[01;34m10256\u001b[0m/  \u001b[01;34m12749\u001b[0m/  \u001b[01;34m12898\u001b[0m/  \u001b[01;34m13462\u001b[0m/  \u001b[01;34m15512\u001b[0m/  \u001b[01;34m8950\u001b[0m/  \u001b[01;34m9228\u001b[0m/\r\n",
      "\u001b[01;34m10257\u001b[0m/  \u001b[01;34m12750\u001b[0m/  \u001b[01;34m12900\u001b[0m/  \u001b[01;34m13591\u001b[0m/  \u001b[01;34m15513\u001b[0m/  \u001b[01;34m8951\u001b[0m/  \u001b[01;34m9250\u001b[0m/\r\n",
      "\u001b[01;34m10258\u001b[0m/  \u001b[01;34m12751\u001b[0m/  \u001b[01;34m12901\u001b[0m/  \u001b[01;34m13613\u001b[0m/  \u001b[01;34m15514\u001b[0m/  \u001b[01;34m8955\u001b[0m/  \u001b[01;34m9254\u001b[0m/\r\n",
      "\u001b[01;34m10259\u001b[0m/  \u001b[01;34m12752\u001b[0m/  \u001b[01;34m12905\u001b[0m/  \u001b[01;34m13616\u001b[0m/  \u001b[01;34m15515\u001b[0m/  \u001b[01;34m8956\u001b[0m/  \u001b[01;34m9255\u001b[0m/\r\n",
      "\u001b[01;34m10260\u001b[0m/  \u001b[01;34m12810\u001b[0m/  \u001b[01;34m12906\u001b[0m/  \u001b[01;34m13617\u001b[0m/  \u001b[01;34m15516\u001b[0m/  \u001b[01;34m8957\u001b[0m/  \u001b[01;34m9256\u001b[0m/\r\n",
      "\u001b[01;34m10261\u001b[0m/  \u001b[01;34m12811\u001b[0m/  \u001b[01;34m12907\u001b[0m/  \u001b[01;34m13666\u001b[0m/  \u001b[01;34m15632\u001b[0m/  \u001b[01;34m8959\u001b[0m/  \u001b[01;34m9257\u001b[0m/\r\n",
      "\u001b[01;34m10262\u001b[0m/  \u001b[01;34m12817\u001b[0m/  \u001b[01;34m12908\u001b[0m/  \u001b[01;34m13687\u001b[0m/  \u001b[01;34m15633\u001b[0m/  \u001b[01;34m8974\u001b[0m/  \u001b[01;34m9258\u001b[0m/\r\n",
      "\u001b[01;34m10264\u001b[0m/  \u001b[01;34m12818\u001b[0m/  \u001b[01;34m12909\u001b[0m/  \u001b[01;34m13688\u001b[0m/  \u001b[01;34m15634\u001b[0m/  \u001b[01;34m8975\u001b[0m/  \u001b[01;34m9259\u001b[0m/\r\n",
      "\u001b[01;34m10268\u001b[0m/  \u001b[01;34m12819\u001b[0m/  \u001b[01;34m12910\u001b[0m/  \u001b[01;34m13689\u001b[0m/  \u001b[01;34m15839\u001b[0m/  \u001b[01;34m8980\u001b[0m/  \u001b[01;34m9260\u001b[0m/\r\n",
      "\u001b[01;34m10269\u001b[0m/  \u001b[01;34m12820\u001b[0m/  \u001b[01;34m12911\u001b[0m/  \u001b[01;34m13691\u001b[0m/  \u001b[01;34m15840\u001b[0m/  \u001b[01;34m8984\u001b[0m/  \u001b[01;34m9261\u001b[0m/\r\n",
      "\u001b[01;34m10272\u001b[0m/  \u001b[01;34m12821\u001b[0m/  \u001b[01;34m12929\u001b[0m/  \u001b[01;34m13692\u001b[0m/  \u001b[01;34m15902\u001b[0m/  \u001b[01;34m9022\u001b[0m/  \u001b[01;34m9262\u001b[0m/\r\n",
      "\u001b[01;34m10273\u001b[0m/  \u001b[01;34m12822\u001b[0m/  \u001b[01;34m12930\u001b[0m/  \u001b[01;34m13693\u001b[0m/  \u001b[01;34m15903\u001b[0m/  \u001b[01;34m9023\u001b[0m/  \u001b[01;34m9265\u001b[0m/\r\n",
      "\u001b[01;34m10274\u001b[0m/  \u001b[01;34m12823\u001b[0m/  \u001b[01;34m12931\u001b[0m/  \u001b[01;34m13694\u001b[0m/  \u001b[01;34m16014\u001b[0m/  \u001b[01;34m9029\u001b[0m/  \u001b[01;34m9266\u001b[0m/\r\n",
      "\u001b[01;34m10275\u001b[0m/  \u001b[01;34m12824\u001b[0m/  \u001b[01;34m12932\u001b[0m/  \u001b[01;34m13916\u001b[0m/  \u001b[01;34m16085\u001b[0m/  \u001b[01;34m9035\u001b[0m/  \u001b[01;34m9267\u001b[0m/\r\n",
      "\u001b[01;34m10276\u001b[0m/  \u001b[01;34m12826\u001b[0m/  \u001b[01;34m12933\u001b[0m/  \u001b[01;34m14078\u001b[0m/  \u001b[01;34m16165\u001b[0m/  \u001b[01;34m9036\u001b[0m/  \u001b[01;34m9290\u001b[0m/\r\n",
      "\u001b[01;34m10277\u001b[0m/  \u001b[01;34m12867\u001b[0m/  \u001b[01;34m12934\u001b[0m/  \u001b[01;34m14079\u001b[0m/  \u001b[01;34m16166\u001b[0m/  \u001b[01;34m9037\u001b[0m/  \u001b[01;34m9291\u001b[0m/\r\n",
      "\u001b[01;34m10278\u001b[0m/  \u001b[01;34m12868\u001b[0m/  \u001b[01;34m12935\u001b[0m/  \u001b[01;34m14081\u001b[0m/  \u001b[01;34m16167\u001b[0m/  \u001b[01;34m9041\u001b[0m/  \u001b[01;34m9319\u001b[0m/\r\n",
      "\u001b[01;34m10279\u001b[0m/  \u001b[01;34m12869\u001b[0m/  \u001b[01;34m12947\u001b[0m/  \u001b[01;34m14082\u001b[0m/  \u001b[01;34m16531\u001b[0m/  \u001b[01;34m9043\u001b[0m/  \u001b[01;34m9320\u001b[0m/\r\n",
      "\u001b[01;34m10282\u001b[0m/  \u001b[01;34m12870\u001b[0m/  \u001b[01;34m12948\u001b[0m/  \u001b[01;34m14153\u001b[0m/  \u001b[01;34m16532\u001b[0m/  \u001b[01;34m9044\u001b[0m/  \u001b[01;34m9321\u001b[0m/\r\n",
      "\u001b[01;34m10285\u001b[0m/  \u001b[01;34m12871\u001b[0m/  \u001b[01;34m12949\u001b[0m/  \u001b[01;34m14154\u001b[0m/  \u001b[01;34m16533\u001b[0m/  \u001b[01;34m9073\u001b[0m/  \u001b[01;34m9322\u001b[0m/\r\n",
      "\u001b[01;34m10286\u001b[0m/  \u001b[01;34m12872\u001b[0m/  \u001b[01;34m12951\u001b[0m/  \u001b[01;34m14155\u001b[0m/  \u001b[01;34m16534\u001b[0m/  \u001b[01;34m9075\u001b[0m/  \u001b[01;34m9323\u001b[0m/\r\n",
      "\u001b[01;34m10288\u001b[0m/  \u001b[01;34m12873\u001b[0m/  \u001b[01;34m12954\u001b[0m/  \u001b[01;34m14156\u001b[0m/  \u001b[01;34m16550\u001b[0m/  \u001b[01;34m9076\u001b[0m/  \u001b[01;34m9324\u001b[0m/\r\n",
      "\u001b[01;34m10290\u001b[0m/  \u001b[01;34m12875\u001b[0m/  \u001b[01;34m12955\u001b[0m/  \u001b[01;34m14157\u001b[0m/  \u001b[01;34m16551\u001b[0m/  \u001b[01;34m9077\u001b[0m/  \u001b[01;34m9325\u001b[0m/\r\n",
      "\u001b[01;34m10291\u001b[0m/  \u001b[01;34m12876\u001b[0m/  \u001b[01;34m13018\u001b[0m/  \u001b[01;34m14188\u001b[0m/  \u001b[01;34m16552\u001b[0m/  \u001b[01;34m9078\u001b[0m/  \u001b[01;34m9344\u001b[0m/\r\n",
      "\u001b[01;34m10292\u001b[0m/  \u001b[01;34m12877\u001b[0m/  \u001b[01;34m13019\u001b[0m/  \u001b[01;34m14189\u001b[0m/  \u001b[01;34m16553\u001b[0m/  \u001b[01;34m9081\u001b[0m/  \u001b[01;34m9345\u001b[0m/\r\n",
      "\u001b[01;34m10293\u001b[0m/  \u001b[01;34m12878\u001b[0m/  \u001b[01;34m13020\u001b[0m/  \u001b[01;34m14190\u001b[0m/  \u001b[01;34m16554\u001b[0m/  \u001b[01;34m9083\u001b[0m/  \u001b[01;34m9346\u001b[0m/\r\n",
      "\u001b[01;34m10295\u001b[0m/  \u001b[01;34m12879\u001b[0m/  \u001b[01;34m13021\u001b[0m/  \u001b[01;34m14191\u001b[0m/  \u001b[01;34m16555\u001b[0m/  \u001b[01;34m9123\u001b[0m/  \u001b[01;34m9347\u001b[0m/\r\n",
      "\u001b[01;34m10299\u001b[0m/  \u001b[01;34m12880\u001b[0m/  \u001b[01;34m13022\u001b[0m/  \u001b[01;34m14192\u001b[0m/  \u001b[01;34m16568\u001b[0m/  \u001b[01;34m9124\u001b[0m/  \u001b[01;34m9381\u001b[0m/\r\n",
      "\u001b[01;34m10300\u001b[0m/  \u001b[01;34m12881\u001b[0m/  \u001b[01;34m13023\u001b[0m/  \u001b[01;34m14209\u001b[0m/  \u001b[01;34m16569\u001b[0m/  \u001b[01;34m9125\u001b[0m/  \u001b[01;34m9382\u001b[0m/\r\n",
      "\u001b[01;34m10301\u001b[0m/  \u001b[01;34m12882\u001b[0m/  \u001b[01;34m13024\u001b[0m/  \u001b[01;34m14210\u001b[0m/  \u001b[01;34m16570\u001b[0m/  \u001b[01;34m9126\u001b[0m/  \u001b[01;34m9383\u001b[0m/\r\n",
      "\u001b[01;34m10302\u001b[0m/  \u001b[01;34m12883\u001b[0m/  \u001b[01;34m13025\u001b[0m/  \u001b[01;34m14211\u001b[0m/  \u001b[01;34m16895\u001b[0m/  \u001b[01;34m9135\u001b[0m/  \u001b[01;31mIDC_regular_ps50_idx5.zip\u001b[0m\r\n",
      "\u001b[01;34m10303\u001b[0m/  \u001b[01;34m12884\u001b[0m/  \u001b[01;34m13106\u001b[0m/  \u001b[01;34m14212\u001b[0m/  \u001b[01;34m16896\u001b[0m/  \u001b[01;34m9173\u001b[0m/  \u001b[01;31mbreast-histopathology-images.zip\u001b[0m\r\n",
      "\u001b[01;34m10304\u001b[0m/  \u001b[01;34m12886\u001b[0m/  \u001b[01;34m13400\u001b[0m/  \u001b[01;34m14213\u001b[0m/  \u001b[01;34m8863\u001b[0m/   \u001b[01;34m9174\u001b[0m/\r\n",
      "\u001b[01;34m10305\u001b[0m/  \u001b[01;34m12890\u001b[0m/  \u001b[01;34m13401\u001b[0m/  \u001b[01;34m14304\u001b[0m/  \u001b[01;34m8864\u001b[0m/   \u001b[01;34m9175\u001b[0m/\r\n",
      "\u001b[01;34m10306\u001b[0m/  \u001b[01;34m12891\u001b[0m/  \u001b[01;34m13402\u001b[0m/  \u001b[01;34m14305\u001b[0m/  \u001b[01;34m8865\u001b[0m/   \u001b[01;34m9176\u001b[0m/\r\n",
      "\u001b[01;34m10307\u001b[0m/  \u001b[01;34m12892\u001b[0m/  \u001b[01;34m13403\u001b[0m/  \u001b[01;34m14306\u001b[0m/  \u001b[01;34m8867\u001b[0m/   \u001b[01;34m9177\u001b[0m/\r\n",
      "\u001b[01;34m10308\u001b[0m/  \u001b[01;34m12893\u001b[0m/  \u001b[01;34m13404\u001b[0m/  \u001b[01;34m14321\u001b[0m/  \u001b[01;34m8913\u001b[0m/   \u001b[01;34m9178\u001b[0m/\r\n",
      "\u001b[01;34m12241\u001b[0m/  \u001b[01;34m12894\u001b[0m/  \u001b[01;34m13458\u001b[0m/  \u001b[01;34m15471\u001b[0m/  \u001b[01;34m8914\u001b[0m/   \u001b[01;34m9181\u001b[0m/\r\n"
     ]
    }
   ],
   "source": [
    "ls data_GPU/breast_histo_PTM/before/"
   ]
  },
  {
   "cell_type": "code",
   "execution_count": 7,
   "metadata": {},
   "outputs": [
    {
     "data": {
      "text/plain": [
       "[PosixPath('data_GPU/breast_histo_PTM/before/13023/0/13023_idx5_x201_y1101_class0.png'),\n",
       " PosixPath('data_GPU/breast_histo_PTM/before/13023/0/13023_idx5_x251_y951_class0.png'),\n",
       " PosixPath('data_GPU/breast_histo_PTM/before/13023/0/13023_idx5_x1401_y1001_class0.png'),\n",
       " PosixPath('data_GPU/breast_histo_PTM/before/13023/0/13023_idx5_x701_y351_class0.png'),\n",
       " PosixPath('data_GPU/breast_histo_PTM/before/13023/0/13023_idx5_x801_y401_class0.png')]"
      ]
     },
     "execution_count": 7,
     "metadata": {},
     "output_type": "execute_result"
    }
   ],
   "source": [
    "fpaths = list(Path('./data_GPU/breast_histo_PTM/before/').rglob('*.png')); fpaths[20:25]"
   ]
  },
  {
   "cell_type": "code",
   "execution_count": 8,
   "metadata": {},
   "outputs": [
    {
     "data": {
      "text/plain": [
       "0    data_GPU/breast_histo_PTM/before/13023/0/13023...\n",
       "1    data_GPU/breast_histo_PTM/before/13023/0/13023...\n",
       "2    data_GPU/breast_histo_PTM/before/13023/0/13023...\n",
       "3    data_GPU/breast_histo_PTM/before/13023/0/13023...\n",
       "4    data_GPU/breast_histo_PTM/before/13023/0/13023...\n",
       "Name: fpaths, dtype: object"
      ]
     },
     "execution_count": 8,
     "metadata": {},
     "output_type": "execute_result"
    }
   ],
   "source": [
    "# make a Series\n",
    "fpaths_s = pd.Series(fpaths, name='fpaths'); fpaths_s.head()"
   ]
  },
  {
   "cell_type": "code",
   "execution_count": 9,
   "metadata": {},
   "outputs": [
    {
     "data": {
      "text/plain": [
       "['13023_idx5_x1501_y1001_class0',\n",
       " '13023_idx5_x301_y751_class0',\n",
       " '13023_idx5_x1551_y851_class0',\n",
       " '13023_idx5_x401_y1001_class0',\n",
       " '13023_idx5_x501_y1001_class0']"
      ]
     },
     "execution_count": 9,
     "metadata": {},
     "output_type": "execute_result"
    }
   ],
   "source": [
    "# make a list of file stems\n",
    "fstems = []\n",
    "\n",
    "for path in fpaths:\n",
    "    fstem = path.stem\n",
    "    fstems.append(fstem)\n",
    "    \n",
    "fstems[:5]"
   ]
  },
  {
   "cell_type": "code",
   "execution_count": 10,
   "metadata": {},
   "outputs": [
    {
     "data": {
      "text/plain": [
       "0    13023_idx5_x1501_y1001_class0\n",
       "1      13023_idx5_x301_y751_class0\n",
       "2     13023_idx5_x1551_y851_class0\n",
       "3     13023_idx5_x401_y1001_class0\n",
       "4     13023_idx5_x501_y1001_class0\n",
       "Name: fstems, dtype: object"
      ]
     },
     "execution_count": 10,
     "metadata": {},
     "output_type": "execute_result"
    }
   ],
   "source": [
    "# make a Series\n",
    "fstems_s = pd.Series(fstems, name='fstems'); fstems_s.head()"
   ]
  },
  {
   "cell_type": "code",
   "execution_count": 11,
   "metadata": {},
   "outputs": [
    {
     "data": {
      "text/html": [
       "<div>\n",
       "<style scoped>\n",
       "    .dataframe tbody tr th:only-of-type {\n",
       "        vertical-align: middle;\n",
       "    }\n",
       "\n",
       "    .dataframe tbody tr th {\n",
       "        vertical-align: top;\n",
       "    }\n",
       "\n",
       "    .dataframe thead th {\n",
       "        text-align: right;\n",
       "    }\n",
       "</style>\n",
       "<table border=\"1\" class=\"dataframe\">\n",
       "  <thead>\n",
       "    <tr style=\"text-align: right;\">\n",
       "      <th></th>\n",
       "      <th>fpaths</th>\n",
       "      <th>fstems</th>\n",
       "    </tr>\n",
       "  </thead>\n",
       "  <tbody>\n",
       "    <tr>\n",
       "      <th>0</th>\n",
       "      <td>data_GPU/breast_histo_PTM/before/13023/0/13023...</td>\n",
       "      <td>13023_idx5_x1501_y1001_class0</td>\n",
       "    </tr>\n",
       "    <tr>\n",
       "      <th>1</th>\n",
       "      <td>data_GPU/breast_histo_PTM/before/13023/0/13023...</td>\n",
       "      <td>13023_idx5_x301_y751_class0</td>\n",
       "    </tr>\n",
       "    <tr>\n",
       "      <th>2</th>\n",
       "      <td>data_GPU/breast_histo_PTM/before/13023/0/13023...</td>\n",
       "      <td>13023_idx5_x1551_y851_class0</td>\n",
       "    </tr>\n",
       "    <tr>\n",
       "      <th>3</th>\n",
       "      <td>data_GPU/breast_histo_PTM/before/13023/0/13023...</td>\n",
       "      <td>13023_idx5_x401_y1001_class0</td>\n",
       "    </tr>\n",
       "    <tr>\n",
       "      <th>4</th>\n",
       "      <td>data_GPU/breast_histo_PTM/before/13023/0/13023...</td>\n",
       "      <td>13023_idx5_x501_y1001_class0</td>\n",
       "    </tr>\n",
       "  </tbody>\n",
       "</table>\n",
       "</div>"
      ],
      "text/plain": [
       "                                              fpaths  \\\n",
       "0  data_GPU/breast_histo_PTM/before/13023/0/13023...   \n",
       "1  data_GPU/breast_histo_PTM/before/13023/0/13023...   \n",
       "2  data_GPU/breast_histo_PTM/before/13023/0/13023...   \n",
       "3  data_GPU/breast_histo_PTM/before/13023/0/13023...   \n",
       "4  data_GPU/breast_histo_PTM/before/13023/0/13023...   \n",
       "\n",
       "                          fstems  \n",
       "0  13023_idx5_x1501_y1001_class0  \n",
       "1    13023_idx5_x301_y751_class0  \n",
       "2   13023_idx5_x1551_y851_class0  \n",
       "3   13023_idx5_x401_y1001_class0  \n",
       "4   13023_idx5_x501_y1001_class0  "
      ]
     },
     "execution_count": 11,
     "metadata": {},
     "output_type": "execute_result"
    }
   ],
   "source": [
    "# concat the two series into a dataframe\n",
    "df = pd.concat([fpaths_s, fstems_s], axis=1); df.head()"
   ]
  },
  {
   "cell_type": "code",
   "execution_count": 12,
   "metadata": {},
   "outputs": [
    {
     "data": {
      "text/html": [
       "<div>\n",
       "<style scoped>\n",
       "    .dataframe tbody tr th:only-of-type {\n",
       "        vertical-align: middle;\n",
       "    }\n",
       "\n",
       "    .dataframe tbody tr th {\n",
       "        vertical-align: top;\n",
       "    }\n",
       "\n",
       "    .dataframe thead th {\n",
       "        text-align: right;\n",
       "    }\n",
       "</style>\n",
       "<table border=\"1\" class=\"dataframe\">\n",
       "  <thead>\n",
       "    <tr style=\"text-align: right;\">\n",
       "      <th></th>\n",
       "      <th>fpaths</th>\n",
       "      <th>fstems</th>\n",
       "      <th>fpaths_str</th>\n",
       "    </tr>\n",
       "  </thead>\n",
       "  <tbody>\n",
       "    <tr>\n",
       "      <th>0</th>\n",
       "      <td>data_GPU/breast_histo_PTM/before/13023/0/13023...</td>\n",
       "      <td>13023_idx5_x1501_y1001_class0</td>\n",
       "      <td>data_GPU/breast_histo_PTM/before/13023/0/13023...</td>\n",
       "    </tr>\n",
       "    <tr>\n",
       "      <th>1</th>\n",
       "      <td>data_GPU/breast_histo_PTM/before/13023/0/13023...</td>\n",
       "      <td>13023_idx5_x301_y751_class0</td>\n",
       "      <td>data_GPU/breast_histo_PTM/before/13023/0/13023...</td>\n",
       "    </tr>\n",
       "    <tr>\n",
       "      <th>2</th>\n",
       "      <td>data_GPU/breast_histo_PTM/before/13023/0/13023...</td>\n",
       "      <td>13023_idx5_x1551_y851_class0</td>\n",
       "      <td>data_GPU/breast_histo_PTM/before/13023/0/13023...</td>\n",
       "    </tr>\n",
       "    <tr>\n",
       "      <th>3</th>\n",
       "      <td>data_GPU/breast_histo_PTM/before/13023/0/13023...</td>\n",
       "      <td>13023_idx5_x401_y1001_class0</td>\n",
       "      <td>data_GPU/breast_histo_PTM/before/13023/0/13023...</td>\n",
       "    </tr>\n",
       "    <tr>\n",
       "      <th>4</th>\n",
       "      <td>data_GPU/breast_histo_PTM/before/13023/0/13023...</td>\n",
       "      <td>13023_idx5_x501_y1001_class0</td>\n",
       "      <td>data_GPU/breast_histo_PTM/before/13023/0/13023...</td>\n",
       "    </tr>\n",
       "  </tbody>\n",
       "</table>\n",
       "</div>"
      ],
      "text/plain": [
       "                                              fpaths  \\\n",
       "0  data_GPU/breast_histo_PTM/before/13023/0/13023...   \n",
       "1  data_GPU/breast_histo_PTM/before/13023/0/13023...   \n",
       "2  data_GPU/breast_histo_PTM/before/13023/0/13023...   \n",
       "3  data_GPU/breast_histo_PTM/before/13023/0/13023...   \n",
       "4  data_GPU/breast_histo_PTM/before/13023/0/13023...   \n",
       "\n",
       "                          fstems  \\\n",
       "0  13023_idx5_x1501_y1001_class0   \n",
       "1    13023_idx5_x301_y751_class0   \n",
       "2   13023_idx5_x1551_y851_class0   \n",
       "3   13023_idx5_x401_y1001_class0   \n",
       "4   13023_idx5_x501_y1001_class0   \n",
       "\n",
       "                                          fpaths_str  \n",
       "0  data_GPU/breast_histo_PTM/before/13023/0/13023...  \n",
       "1  data_GPU/breast_histo_PTM/before/13023/0/13023...  \n",
       "2  data_GPU/breast_histo_PTM/before/13023/0/13023...  \n",
       "3  data_GPU/breast_histo_PTM/before/13023/0/13023...  \n",
       "4  data_GPU/breast_histo_PTM/before/13023/0/13023...  "
      ]
     },
     "execution_count": 12,
     "metadata": {},
     "output_type": "execute_result"
    }
   ],
   "source": [
    "df['fpaths_str'] = df['fpaths'].apply(lambda x: str(x)); df.head()"
   ]
  },
  {
   "cell_type": "code",
   "execution_count": 13,
   "metadata": {},
   "outputs": [
    {
     "data": {
      "text/html": [
       "<div>\n",
       "<style scoped>\n",
       "    .dataframe tbody tr th:only-of-type {\n",
       "        vertical-align: middle;\n",
       "    }\n",
       "\n",
       "    .dataframe tbody tr th {\n",
       "        vertical-align: top;\n",
       "    }\n",
       "\n",
       "    .dataframe thead th {\n",
       "        text-align: right;\n",
       "    }\n",
       "</style>\n",
       "<table border=\"1\" class=\"dataframe\">\n",
       "  <thead>\n",
       "    <tr style=\"text-align: right;\">\n",
       "      <th></th>\n",
       "      <th>fpaths</th>\n",
       "      <th>fstems</th>\n",
       "      <th>fpaths_str</th>\n",
       "      <th>class_label</th>\n",
       "    </tr>\n",
       "  </thead>\n",
       "  <tbody>\n",
       "    <tr>\n",
       "      <th>0</th>\n",
       "      <td>data_GPU/breast_histo_PTM/before/13023/0/13023...</td>\n",
       "      <td>13023_idx5_x1501_y1001_class0</td>\n",
       "      <td>data_GPU/breast_histo_PTM/before/13023/0/13023...</td>\n",
       "      <td>0</td>\n",
       "    </tr>\n",
       "    <tr>\n",
       "      <th>1</th>\n",
       "      <td>data_GPU/breast_histo_PTM/before/13023/0/13023...</td>\n",
       "      <td>13023_idx5_x301_y751_class0</td>\n",
       "      <td>data_GPU/breast_histo_PTM/before/13023/0/13023...</td>\n",
       "      <td>0</td>\n",
       "    </tr>\n",
       "    <tr>\n",
       "      <th>2</th>\n",
       "      <td>data_GPU/breast_histo_PTM/before/13023/0/13023...</td>\n",
       "      <td>13023_idx5_x1551_y851_class0</td>\n",
       "      <td>data_GPU/breast_histo_PTM/before/13023/0/13023...</td>\n",
       "      <td>0</td>\n",
       "    </tr>\n",
       "    <tr>\n",
       "      <th>3</th>\n",
       "      <td>data_GPU/breast_histo_PTM/before/13023/0/13023...</td>\n",
       "      <td>13023_idx5_x401_y1001_class0</td>\n",
       "      <td>data_GPU/breast_histo_PTM/before/13023/0/13023...</td>\n",
       "      <td>0</td>\n",
       "    </tr>\n",
       "    <tr>\n",
       "      <th>4</th>\n",
       "      <td>data_GPU/breast_histo_PTM/before/13023/0/13023...</td>\n",
       "      <td>13023_idx5_x501_y1001_class0</td>\n",
       "      <td>data_GPU/breast_histo_PTM/before/13023/0/13023...</td>\n",
       "      <td>0</td>\n",
       "    </tr>\n",
       "  </tbody>\n",
       "</table>\n",
       "</div>"
      ],
      "text/plain": [
       "                                              fpaths  \\\n",
       "0  data_GPU/breast_histo_PTM/before/13023/0/13023...   \n",
       "1  data_GPU/breast_histo_PTM/before/13023/0/13023...   \n",
       "2  data_GPU/breast_histo_PTM/before/13023/0/13023...   \n",
       "3  data_GPU/breast_histo_PTM/before/13023/0/13023...   \n",
       "4  data_GPU/breast_histo_PTM/before/13023/0/13023...   \n",
       "\n",
       "                          fstems  \\\n",
       "0  13023_idx5_x1501_y1001_class0   \n",
       "1    13023_idx5_x301_y751_class0   \n",
       "2   13023_idx5_x1551_y851_class0   \n",
       "3   13023_idx5_x401_y1001_class0   \n",
       "4   13023_idx5_x501_y1001_class0   \n",
       "\n",
       "                                          fpaths_str class_label  \n",
       "0  data_GPU/breast_histo_PTM/before/13023/0/13023...           0  \n",
       "1  data_GPU/breast_histo_PTM/before/13023/0/13023...           0  \n",
       "2  data_GPU/breast_histo_PTM/before/13023/0/13023...           0  \n",
       "3  data_GPU/breast_histo_PTM/before/13023/0/13023...           0  \n",
       "4  data_GPU/breast_histo_PTM/before/13023/0/13023...           0  "
      ]
     },
     "execution_count": 13,
     "metadata": {},
     "output_type": "execute_result"
    }
   ],
   "source": [
    "df['class_label'] = df['fpaths_str'].str.split('/', expand=True)[4]; df.head()"
   ]
  },
  {
   "cell_type": "markdown",
   "metadata": {},
   "source": [
    "# Make ImageItemList.from_df()"
   ]
  },
  {
   "cell_type": "code",
   "execution_count": 14,
   "metadata": {},
   "outputs": [
    {
     "data": {
      "text/plain": [
       "'/home/ubuntu/course-v3'"
      ]
     },
     "execution_count": 14,
     "metadata": {},
     "output_type": "execute_result"
    }
   ],
   "source": [
    "pwd"
   ]
  },
  {
   "cell_type": "code",
   "execution_count": 15,
   "metadata": {},
   "outputs": [],
   "source": [
    "path = Path('.')"
   ]
  },
  {
   "cell_type": "code",
   "execution_count": 16,
   "metadata": {},
   "outputs": [],
   "source": [
    "data = ImageItemList.from_df(path=path, df=df, cols='fpaths')"
   ]
  },
  {
   "cell_type": "code",
   "execution_count": 17,
   "metadata": {},
   "outputs": [
    {
     "data": {
      "text/plain": [
       "ImageItemList (277524 items)\n",
       "[Image (3, 50, 50), Image (3, 50, 50), Image (3, 50, 50), Image (3, 50, 50), Image (3, 50, 50)]...\n",
       "Path: ."
      ]
     },
     "execution_count": 17,
     "metadata": {},
     "output_type": "execute_result"
    }
   ],
   "source": [
    "data"
   ]
  },
  {
   "cell_type": "markdown",
   "metadata": {},
   "source": [
    "# Add transforms and make databunch"
   ]
  },
  {
   "cell_type": "code",
   "execution_count": 18,
   "metadata": {},
   "outputs": [],
   "source": [
    "tfms = get_transforms(do_flip=True, \n",
    "                      flip_vert=True, \n",
    "                      max_rotate=4., \n",
    "                      max_zoom=1.1, \n",
    "                      max_lighting=0.2, \n",
    "                      max_warp=0., \n",
    "                      p_affine=0.75, \n",
    "                      p_lighting=0.75)"
   ]
  },
  {
   "cell_type": "code",
   "execution_count": 19,
   "metadata": {},
   "outputs": [],
   "source": [
    "# 64 is default\n",
    "bs = 128"
   ]
  },
  {
   "cell_type": "code",
   "execution_count": 20,
   "metadata": {},
   "outputs": [],
   "source": [
    "np.random.seed(10)\n",
    "data = (ImageItemList.from_df(df=df, path=path, cols='fpaths')\n",
    "                     .random_split_by_pct(valid_pct=0.2, seed=10)\n",
    "                     .label_from_df(cols='class_label')\n",
    "                     .transform(tfms, size=49) # set size of img\n",
    "                     .databunch(bs=bs))"
   ]
  },
  {
   "cell_type": "code",
   "execution_count": 21,
   "metadata": {},
   "outputs": [
    {
     "data": {
      "text/plain": [
       "ImageDataBunch;\n",
       "\n",
       "Train: LabelList\n",
       "y: CategoryList (222020 items)\n",
       "[Category 0, Category 0, Category 0, Category 0, Category 0]...\n",
       "Path: .\n",
       "x: ImageItemList (222020 items)\n",
       "[Image (3, 50, 50), Image (3, 50, 50), Image (3, 50, 50), Image (3, 50, 50), Image (3, 50, 50)]...\n",
       "Path: .;\n",
       "\n",
       "Valid: LabelList\n",
       "y: CategoryList (55504 items)\n",
       "[Category 1, Category 0, Category 1, Category 1, Category 1]...\n",
       "Path: .\n",
       "x: ImageItemList (55504 items)\n",
       "[Image (3, 50, 50), Image (3, 50, 50), Image (3, 50, 50), Image (3, 50, 50), Image (3, 50, 50)]...\n",
       "Path: .;\n",
       "\n",
       "Test: None"
      ]
     },
     "execution_count": 21,
     "metadata": {},
     "output_type": "execute_result"
    }
   ],
   "source": [
    "data"
   ]
  },
  {
   "cell_type": "code",
   "execution_count": 22,
   "metadata": {},
   "outputs": [
    {
     "data": {
      "text/plain": [
       "(['0', '1'], 2, 222020, 55504)"
      ]
     },
     "execution_count": 22,
     "metadata": {},
     "output_type": "execute_result"
    }
   ],
   "source": [
    "data.classes, data.c, len(data.train_ds), len(data.valid_ds)"
   ]
  },
  {
   "cell_type": "markdown",
   "metadata": {},
   "source": [
    "# View data"
   ]
  },
  {
   "cell_type": "code",
   "execution_count": 23,
   "metadata": {},
   "outputs": [
    {
     "data": {
      "image/png": "[encoded data removed]",
      "text/plain": [
       "<Figure size 504x504 with 9 Axes>"
      ]
     },
     "metadata": {
      "needs_background": "light"
     },
     "output_type": "display_data"
    }
   ],
   "source": [
    "data.show_batch(rows=3, figsize=(7,7), hide_axis=False)"
   ]
  },
  {
   "cell_type": "markdown",
   "metadata": {},
   "source": [
    "# Train model"
   ]
  },
  {
   "cell_type": "code",
   "execution_count": 24,
   "metadata": {},
   "outputs": [],
   "source": [
    "# I turned metrics into a list and added accuracy (reverse if this doesn't work)\n",
    "learn = create_cnn(data, models.resnet34, metrics=[error_rate, accuracy])"
   ]
  },
  {
   "cell_type": "code",
   "execution_count": 26,
   "metadata": {},
   "outputs": [
    {
     "data": {
      "text/html": [
       "Total time: 16:40 <p><table style='width:375px; margin-bottom:10px'>\n",
       "  <tr>\n",
       "    <th>epoch</th>\n",
       "    <th>train_loss</th>\n",
       "    <th>valid_loss</th>\n",
       "    <th>error_rate</th>\n",
       "    <th>accuracy</th>\n",
       "  </tr>\n",
       "  <tr>\n",
       "    <th>1</th>\n",
       "    <th>0.363324</th>\n",
       "    <th>0.343427</th>\n",
       "    <th>0.146656</th>\n",
       "    <th>0.853344</th>\n",
       "  </tr>\n",
       "  <tr>\n",
       "    <th>2</th>\n",
       "    <th>0.329139</th>\n",
       "    <th>0.315138</th>\n",
       "    <th>0.134098</th>\n",
       "    <th>0.865902</th>\n",
       "  </tr>\n",
       "  <tr>\n",
       "    <th>3</th>\n",
       "    <th>0.324761</th>\n",
       "    <th>0.307854</th>\n",
       "    <th>0.129865</th>\n",
       "    <th>0.870135</th>\n",
       "  </tr>\n",
       "  <tr>\n",
       "    <th>4</th>\n",
       "    <th>0.315099</th>\n",
       "    <th>0.304611</th>\n",
       "    <th>0.128531</th>\n",
       "    <th>0.871469</th>\n",
       "  </tr>\n",
       "</table>\n"
      ],
      "text/plain": [
       "<IPython.core.display.HTML object>"
      ]
     },
     "metadata": {},
     "output_type": "display_data"
    }
   ],
   "source": [
    "learn.fit_one_cycle(4)"
   ]
  },
  {
   "cell_type": "code",
   "execution_count": null,
   "metadata": {},
   "outputs": [],
   "source": [
    "learn.fit_one_cycle(learn=Learner, )"
   ]
  }
 ],
 "metadata": {
  "kernelspec": {
   "display_name": "AWS Oregon p2",
   "language": "python",
   "name": "fastai"
  },
  "language_info": {
   "codemirror_mode": {
    "name": "ipython",
    "version": 3
   },
   "file_extension": ".py",
   "mimetype": "text/x-python",
   "name": "python",
   "nbconvert_exporter": "python",
   "pygments_lexer": "ipython3",
   "version": "3.7.0"
  }
 },
 "nbformat": 4,
 "nbformat_minor": 2
}
