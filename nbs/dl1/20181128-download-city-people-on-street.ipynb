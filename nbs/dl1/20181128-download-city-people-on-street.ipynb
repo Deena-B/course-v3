{
 "cells": [
  {
   "cell_type": "markdown",
   "metadata": {},
   "source": [
    "# Build dataset to dest ImageItemList.from_df  \n",
    "\n",
    "Hypothesis: deep learning can tell which city these images were captured in -- this seems hard! \n",
    "\n",
    "Google Image search for \n",
    "\"______ (city) people on street\" \n",
    "(I could, maybe should, have used \"... people walking on street*\")"
   ]
  },
  {
   "cell_type": "code",
   "execution_count": 104,
   "metadata": {},
   "outputs": [
    {
     "name": "stdout",
     "output_type": "stream",
     "text": [
      "/Users/Ds2007laptop/Documents/Work/Programming/fastai/collabfastai/course-v3\n"
     ]
    }
   ],
   "source": [
    "cd ~/Documents/Work/Programming/fastai/collabfastai/course-v3/"
   ]
  },
  {
   "cell_type": "code",
   "execution_count": 105,
   "metadata": {},
   "outputs": [
    {
     "name": "stdout",
     "output_type": "stream",
     "text": [
      "\u001b[34mdallas\u001b[m\u001b[m/            \u001b[34mmelbourne\u001b[m\u001b[m/         \u001b[34mnew-york\u001b[m\u001b[m/          \u001b[34msan-francisco\u001b[m\u001b[m/\r\n",
      "dallas.txt         melbourne.txt      new-york.txt       san-francisco.txt\r\n"
     ]
    }
   ],
   "source": [
    "ls data_GPU/city_streets/"
   ]
  },
  {
   "cell_type": "code",
   "execution_count": 106,
   "metadata": {},
   "outputs": [],
   "source": [
    "%reload_ext autoreload\n",
    "%autoreload 2\n",
    "%matplotlib inline"
   ]
  },
  {
   "cell_type": "code",
   "execution_count": 107,
   "metadata": {},
   "outputs": [],
   "source": [
    "from fastai import *\n",
    "from fastai.vision import *"
   ]
  },
  {
   "cell_type": "markdown",
   "metadata": {},
   "source": [
    "## Assign variable names, make a folder, download images from URL.txt file"
   ]
  },
  {
   "cell_type": "markdown",
   "metadata": {},
   "source": [
    "### The first set of images (with lots of explanation)"
   ]
  },
  {
   "cell_type": "code",
   "execution_count": 52,
   "metadata": {},
   "outputs": [
    {
     "data": {
      "text/plain": [
       "PosixPath('data_GPU/city_streets')"
      ]
     },
     "execution_count": 52,
     "metadata": {},
     "output_type": "execute_result"
    }
   ],
   "source": [
    "# assign a path to the variable 'path'\n",
    "path = Path('data_GPU/city_streets/'); path"
   ]
  },
  {
   "cell_type": "code",
   "execution_count": 51,
   "metadata": {},
   "outputs": [
    {
     "data": {
      "text/plain": [
       "'dallas'"
      ]
     },
     "execution_count": 51,
     "metadata": {},
     "output_type": "execute_result"
    }
   ],
   "source": [
    "# assign a string to the variable 'folder'\n",
    "folder = 'dallas'; folder"
   ]
  },
  {
   "cell_type": "code",
   "execution_count": 53,
   "metadata": {},
   "outputs": [
    {
     "data": {
      "text/plain": [
       "PosixPath('data_GPU/city_streets/dallas')"
      ]
     },
     "execution_count": 53,
     "metadata": {},
     "output_type": "execute_result"
    }
   ],
   "source": [
    "# assign a destination path to the variable 'dest'\n",
    "dest = path/folder; dest"
   ]
  },
  {
   "cell_type": "code",
   "execution_count": 54,
   "metadata": {},
   "outputs": [],
   "source": [
    "# make a directory in the destination\n",
    "# what does parents do??? \n",
    "# exist_ok() acknowledges if there is already a folder with that name and if so, aborts?\n",
    "dest.mkdir(parents=True, exist_ok=True)"
   ]
  },
  {
   "cell_type": "code",
   "execution_count": 55,
   "metadata": {},
   "outputs": [
    {
     "name": "stdout",
     "output_type": "stream",
     "text": [
      "\u001b[34mdallas\u001b[m\u001b[m            \u001b[34mmelbourne\u001b[m\u001b[m         \u001b[34mnew-york\u001b[m\u001b[m          \u001b[34msan-francisco\u001b[m\u001b[m\r\n",
      "dallas.txt        melvourne.txt     new-york.txt      san-francisco.txt\r\n"
     ]
    }
   ],
   "source": [
    "# show that the directory has been made\n",
    "!ls data_GPU/city_streets/"
   ]
  },
  {
   "cell_type": "code",
   "execution_count": 56,
   "metadata": {},
   "outputs": [
    {
     "name": "stdout",
     "output_type": "stream",
     "text": [
      "00000000.jpg 00000005.jpg 00000009.jpg 00000013.jpg 00000018.jpg 00000025.jpg\r\n",
      "00000002.jpg 00000006.jpg 00000010.jpg 00000014.jpg 00000019.jpg 00000026.jpg\r\n",
      "00000003.jpg 00000007.jpg 00000011.jpg 00000015.jpg 00000022.jpg\r\n",
      "00000004.jpg 00000008.jpg 00000012.jpg 00000016.jpg 00000024.jpg\r\n"
     ]
    }
   ],
   "source": [
    "# show that the directory is empty (no output means it worked :)\n",
    "!ls data_GPU/city_streets/dallas/"
   ]
  },
  {
   "cell_type": "code",
   "execution_count": 57,
   "metadata": {},
   "outputs": [],
   "source": [
    "# assign a filename for a txt doc with URLs to the variable 'fname'\n",
    "fname = 'dallas.txt'"
   ]
  },
  {
   "cell_type": "code",
   "execution_count": 50,
   "metadata": {},
   "outputs": [
    {
     "data": {
      "text/html": [
       "\n",
       "    <div>\n",
       "      <progress value='27' max='27', style='width:300px; height:20px; vertical-align: middle;'></progress>\n",
       "      100.00% [27/27 00:11<00:00]\n",
       "    </div>\n",
       "    "
      ],
      "text/plain": [
       "<IPython.core.display.HTML object>"
      ]
     },
     "metadata": {},
     "output_type": "display_data"
    },
    {
     "name": "stdout",
     "output_type": "stream",
     "text": [
      "Error http://www.lanabird.com/wp-content/uploads/2014/11/DSC_8528.jpg 'content-length'\n",
      "Error https://c8.alamy.com/comp/AE4K5Y/dallas-texas-usa-west-end-district-people-walking-along-street-AE4K5Y.jpg 'content-length'\n",
      "Error http://mediad.publicbroadcasting.net/p/kera/files/styles/x_large/public/201802/vigilant_josh.jpg 'content-length'\n",
      "Error http://mediad.publicbroadcasting.net/p/kera/files/styles/medium/public/201603/16125798170_28b19b7afe_z_0.jpg 'content-length'\n",
      "Error https://www.utsouthwestern.edu/edumedia/eduimages/departments_centers/internal_medicine/nephrology/why-dallas-1.jpg 'content-length'\n"
     ]
    }
   ],
   "source": [
    "# download imagaes from the URLs file to the destination folder\n",
    "download_images(path/fname, dest, max_pics=27)"
   ]
  },
  {
   "cell_type": "markdown",
   "metadata": {},
   "source": [
    "### Second set of images with less explanation"
   ]
  },
  {
   "cell_type": "code",
   "execution_count": 59,
   "metadata": {},
   "outputs": [],
   "source": [
    "# create a path variable for the location the folder will be made in\n",
    "path = Path('data_GPU/city_streets/')"
   ]
  },
  {
   "cell_type": "code",
   "execution_count": 68,
   "metadata": {},
   "outputs": [],
   "source": [
    "# make a folder **variable** for the images of a specific label\n",
    "folder = 'melbourne'"
   ]
  },
  {
   "cell_type": "code",
   "execution_count": 60,
   "metadata": {},
   "outputs": [],
   "source": [
    "# create a destination variable (so I can call .mkdir on it)\n",
    "dest = path/folder"
   ]
  },
  {
   "cell_type": "code",
   "execution_count": 61,
   "metadata": {},
   "outputs": [],
   "source": [
    "# call mkdir on your destination to make the folder\n",
    "dest.mkdir(parents=True, exist_ok=True)"
   ]
  },
  {
   "cell_type": "code",
   "execution_count": 66,
   "metadata": {},
   "outputs": [
    {
     "name": "stdout",
     "output_type": "stream",
     "text": [
      "\u001b[34mdallas\u001b[m\u001b[m            \u001b[34mmelbourne\u001b[m\u001b[m         \u001b[34mnew-york\u001b[m\u001b[m          \u001b[34msan-francisco\u001b[m\u001b[m\r\n",
      "dallas.txt        melbourne.txt     new-york.txt      san-francisco.txt\r\n"
     ]
    }
   ],
   "source": [
    "# show that the directory has been made\n",
    "!ls data_GPU/city_streets/"
   ]
  },
  {
   "cell_type": "code",
   "execution_count": 63,
   "metadata": {},
   "outputs": [],
   "source": [
    "# show that the directory is empty (no output means it worked :)\n",
    "!ls data_GPU/city_streets/melbourne/"
   ]
  },
  {
   "cell_type": "code",
   "execution_count": 70,
   "metadata": {},
   "outputs": [],
   "source": [
    "# assign the appropriate filename to the fname variable\n",
    "fname = 'melbourne.txt'"
   ]
  },
  {
   "cell_type": "code",
   "execution_count": 71,
   "metadata": {},
   "outputs": [
    {
     "data": {
      "text/html": [
       "\n",
       "    <div>\n",
       "      <progress value='27' max='27', style='width:300px; height:20px; vertical-align: middle;'></progress>\n",
       "      100.00% [27/27 00:03<00:00]\n",
       "    </div>\n",
       "    "
      ],
      "text/plain": [
       "<IPython.core.display.HTML object>"
      ]
     },
     "metadata": {},
     "output_type": "display_data"
    },
    {
     "name": "stdout",
     "output_type": "stream",
     "text": [
      "Error https://c8.alamy.com/comp/CYR7JP/the-famous-flinders-street-railway-station-on-swanston-st-melbourne-CYR7JP.jpg 'content-length'\n",
      "Error https://kidbucketlist.com.au/wp-content/uploads/2016/03/Hosier-Lane-Melbourne-Street-Art-The-Graffiti-Artist-Place-2.jpg 'content-length'\n",
      "Error https://images.theconversation.com/files/207431/original/file-20180222-132647-67gkaz.jpg?ixlib=rb-1.1.0&q=45&auto=format&w=496&fit=clip 'content-length'\n",
      "Error https://www.contentedtraveller.com/wp-content/uploads/2016/02/Top-10-Things-to-Do-In-Melbourne-Australia-1-1080x675.jpg 'content-length'\n"
     ]
    }
   ],
   "source": [
    "# download images from path/filename to destination with a maximum number of pictures\n",
    "download_images(path/fname, dest, max_pics=27)"
   ]
  },
  {
   "cell_type": "markdown",
   "metadata": {},
   "source": [
    "### 3rd set of images with less looking back"
   ]
  },
  {
   "cell_type": "code",
   "execution_count": 78,
   "metadata": {},
   "outputs": [],
   "source": [
    "# create path\n",
    "path = Path('data_GPU/city_streets/')"
   ]
  },
  {
   "cell_type": "code",
   "execution_count": 79,
   "metadata": {},
   "outputs": [],
   "source": [
    "# create variable\n",
    "folder = 'new-york'"
   ]
  },
  {
   "cell_type": "code",
   "execution_count": 80,
   "metadata": {},
   "outputs": [],
   "source": [
    "# create destination\n",
    "dest = path/folder"
   ]
  },
  {
   "cell_type": "code",
   "execution_count": 81,
   "metadata": {},
   "outputs": [],
   "source": [
    "# make directory\n",
    "dest.mkdir(parents=True, exist_ok=True)"
   ]
  },
  {
   "cell_type": "code",
   "execution_count": 82,
   "metadata": {},
   "outputs": [],
   "source": [
    "fname = 'new-york.txt'"
   ]
  },
  {
   "cell_type": "code",
   "execution_count": 83,
   "metadata": {},
   "outputs": [
    {
     "data": {
      "text/html": [
       "\n",
       "    <div>\n",
       "      <progress value='27' max='27', style='width:300px; height:20px; vertical-align: middle;'></progress>\n",
       "      100.00% [27/27 00:08<00:00]\n",
       "    </div>\n",
       "    "
      ],
      "text/plain": [
       "<IPython.core.display.HTML object>"
      ]
     },
     "metadata": {},
     "output_type": "display_data"
    },
    {
     "name": "stdout",
     "output_type": "stream",
     "text": [
      "Error https://www.ecenglish.com/globalassets/destinations/usa/new-york-30/gallery/english_for_adults_in_new_york_with_ec_027.jpg 'content-length'\n"
     ]
    }
   ],
   "source": [
    "download_images(path/fname, dest, max_pics=27)"
   ]
  },
  {
   "cell_type": "markdown",
   "metadata": {},
   "source": [
    "### download 4th set of images "
   ]
  },
  {
   "cell_type": "code",
   "execution_count": 100,
   "metadata": {},
   "outputs": [],
   "source": [
    "path = Path('data_GPU/city_streets/')"
   ]
  },
  {
   "cell_type": "code",
   "execution_count": 85,
   "metadata": {},
   "outputs": [],
   "source": [
    "folder = 'san-francisco'"
   ]
  },
  {
   "cell_type": "code",
   "execution_count": 86,
   "metadata": {},
   "outputs": [],
   "source": [
    "dest = path/folder"
   ]
  },
  {
   "cell_type": "code",
   "execution_count": 87,
   "metadata": {},
   "outputs": [],
   "source": [
    "dest.mkdir(parents=True, exist_ok=True)"
   ]
  },
  {
   "cell_type": "code",
   "execution_count": 88,
   "metadata": {},
   "outputs": [],
   "source": [
    "fname = 'san-francisco.txt'"
   ]
  },
  {
   "cell_type": "code",
   "execution_count": 89,
   "metadata": {},
   "outputs": [
    {
     "data": {
      "text/html": [
       "\n",
       "    <div>\n",
       "      <progress value='27' max='27', style='width:300px; height:20px; vertical-align: middle;'></progress>\n",
       "      100.00% [27/27 00:09<00:00]\n",
       "    </div>\n",
       "    "
      ],
      "text/plain": [
       "<IPython.core.display.HTML object>"
      ]
     },
     "metadata": {},
     "output_type": "display_data"
    },
    {
     "name": "stdout",
     "output_type": "stream",
     "text": [
      "Error http://cisl.edu/wordpress/wp-content/uploads/2012/11/chinatown1.jpg 'content-length'\n",
      "Error http://s79f01z693v3ecoes3yyjsg1.wpengine.netdna-cdn.com/wp-content/uploads/2016/06/002.jpg 'content-length'\n",
      "Error https://static2.bigstockphoto.com/5/5/1/large1500/155431214.jpg 'content-length'\n"
     ]
    }
   ],
   "source": [
    "download_images(path/fname, dest, max_pics=27)"
   ]
  },
  {
   "cell_type": "markdown",
   "metadata": {},
   "source": [
    "## Check the image quality"
   ]
  },
  {
   "cell_type": "code",
   "execution_count": 108,
   "metadata": {},
   "outputs": [],
   "source": [
    "# create classes variable (so I can iterate through the folders)\n",
    "classes = ['dallas', 'melbourne', 'new-york', 'san-francisco']"
   ]
  },
  {
   "cell_type": "code",
   "execution_count": 109,
   "metadata": {},
   "outputs": [
    {
     "name": "stdout",
     "output_type": "stream",
     "text": [
      "dallas\n"
     ]
    },
    {
     "data": {
      "text/html": [
       "\n",
       "    <div>\n",
       "      <progress value='20' max='20', style='width:300px; height:20px; vertical-align: middle;'></progress>\n",
       "      100.00% [20/20 00:01<00:00]\n",
       "    </div>\n",
       "    "
      ],
      "text/plain": [
       "<IPython.core.display.HTML object>"
      ]
     },
     "metadata": {},
     "output_type": "display_data"
    },
    {
     "name": "stdout",
     "output_type": "stream",
     "text": [
      "melbourne\n"
     ]
    },
    {
     "data": {
      "text/html": [
       "\n",
       "    <div>\n",
       "      <progress value='23' max='23', style='width:300px; height:20px; vertical-align: middle;'></progress>\n",
       "      100.00% [23/23 00:00<00:00]\n",
       "    </div>\n",
       "    "
      ],
      "text/plain": [
       "<IPython.core.display.HTML object>"
      ]
     },
     "metadata": {},
     "output_type": "display_data"
    },
    {
     "name": "stdout",
     "output_type": "stream",
     "text": [
      "new-york\n"
     ]
    },
    {
     "data": {
      "text/html": [
       "\n",
       "    <div>\n",
       "      <progress value='23' max='23', style='width:300px; height:20px; vertical-align: middle;'></progress>\n",
       "      100.00% [23/23 00:00<00:00]\n",
       "    </div>\n",
       "    "
      ],
      "text/plain": [
       "<IPython.core.display.HTML object>"
      ]
     },
     "metadata": {},
     "output_type": "display_data"
    },
    {
     "name": "stdout",
     "output_type": "stream",
     "text": [
      "san-francisco\n"
     ]
    },
    {
     "data": {
      "text/html": [
       "\n",
       "    <div>\n",
       "      <progress value='23' max='23', style='width:300px; height:20px; vertical-align: middle;'></progress>\n",
       "      100.00% [23/23 00:01<00:00]\n",
       "    </div>\n",
       "    "
      ],
      "text/plain": [
       "<IPython.core.display.HTML object>"
      ]
     },
     "metadata": {},
     "output_type": "display_data"
    }
   ],
   "source": [
    "for c in classes:\n",
    "    print(c)\n",
    "    verify_images(path/c, delete=True)"
   ]
  },
  {
   "cell_type": "markdown",
   "metadata": {},
   "source": [
    "## View Data"
   ]
  },
  {
   "cell_type": "code",
   "execution_count": 116,
   "metadata": {},
   "outputs": [],
   "source": [
    "np.random.seed(1)"
   ]
  },
  {
   "cell_type": "code",
   "execution_count": 117,
   "metadata": {},
   "outputs": [],
   "source": [
    "# am I missing something that tells it the images are in the folders?\n",
    "# note \".\" refers to path, which is data_GPU/city_streets/\n",
    "data = ImageDataBunch.from_folder(path, train=\".\", valid_pct=0.2,\n",
    "        ds_tfms=get_transforms(), size=224, num_workers=4).normalize(imagenet_stats)"
   ]
  },
  {
   "cell_type": "code",
   "execution_count": 118,
   "metadata": {},
   "outputs": [
    {
     "ename": "AttributeError",
     "evalue": "'NoneType' object has no attribute 'classes'",
     "output_type": "error",
     "traceback": [
      "\u001b[0;31m---------------------------------------------------------------------------\u001b[0m",
      "\u001b[0;31mAttributeError\u001b[0m                            Traceback (most recent call last)",
      "\u001b[0;32m<ipython-input-118-cdb2305a276c>\u001b[0m in \u001b[0;36m<module>\u001b[0;34m()\u001b[0m\n\u001b[0;32m----> 1\u001b[0;31m \u001b[0mdata\u001b[0m\u001b[0;34m.\u001b[0m\u001b[0mclasses\u001b[0m\u001b[0;34m\u001b[0m\u001b[0m\n\u001b[0m",
      "\u001b[0;31mAttributeError\u001b[0m: 'NoneType' object has no attribute 'classes'"
     ]
    }
   ],
   "source": [
    "data.classes"
   ]
  },
  {
   "cell_type": "code",
   "execution_count": 115,
   "metadata": {},
   "outputs": [
    {
     "ename": "AttributeError",
     "evalue": "'NoneType' object has no attribute 'show_batch'",
     "output_type": "error",
     "traceback": [
      "\u001b[0;31m---------------------------------------------------------------------------\u001b[0m",
      "\u001b[0;31mAttributeError\u001b[0m                            Traceback (most recent call last)",
      "\u001b[0;32m<ipython-input-115-5e754e6c0691>\u001b[0m in \u001b[0;36m<module>\u001b[0;34m()\u001b[0m\n\u001b[0;32m----> 1\u001b[0;31m \u001b[0mdata\u001b[0m\u001b[0;34m.\u001b[0m\u001b[0mshow_batch\u001b[0m\u001b[0;34m(\u001b[0m\u001b[0mrows\u001b[0m\u001b[0;34m=\u001b[0m\u001b[0;36m3\u001b[0m\u001b[0;34m,\u001b[0m \u001b[0mfigsize\u001b[0m\u001b[0;34m=\u001b[0m\u001b[0;34m(\u001b[0m\u001b[0;36m7\u001b[0m\u001b[0;34m,\u001b[0m\u001b[0;36m8\u001b[0m\u001b[0;34m)\u001b[0m\u001b[0;34m)\u001b[0m\u001b[0;34m\u001b[0m\u001b[0m\n\u001b[0m",
      "\u001b[0;31mAttributeError\u001b[0m: 'NoneType' object has no attribute 'show_batch'"
     ]
    }
   ],
   "source": [
    "data.show_batch(rows=3, figsize=(7,8))"
   ]
  },
  {
   "cell_type": "code",
   "execution_count": null,
   "metadata": {},
   "outputs": [],
   "source": []
  },
  {
   "cell_type": "code",
   "execution_count": null,
   "metadata": {},
   "outputs": [],
   "source": []
  },
  {
   "cell_type": "code",
   "execution_count": null,
   "metadata": {},
   "outputs": [],
   "source": []
  }
 ],
 "metadata": {
  "kernelspec": {
   "display_name": "Python 3",
   "language": "python",
   "name": "python3"
  },
  "language_info": {
   "codemirror_mode": {
    "name": "ipython",
    "version": 3
   },
   "file_extension": ".py",
   "mimetype": "text/x-python",
   "name": "python",
   "nbconvert_exporter": "python",
   "pygments_lexer": "ipython3",
   "version": "3.7.0"
  }
 },
 "nbformat": 4,
 "nbformat_minor": 2
}
