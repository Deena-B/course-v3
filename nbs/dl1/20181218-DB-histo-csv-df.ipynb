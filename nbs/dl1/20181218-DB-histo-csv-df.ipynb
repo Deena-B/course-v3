{
 "cells": [
  {
   "cell_type": "code",
   "execution_count": 1,
   "metadata": {},
   "outputs": [],
   "source": [
    "%reload_ext autoreload\n",
    "%autoreload 2\n",
    "%matplotlib inline"
   ]
  },
  {
   "cell_type": "code",
   "execution_count": 2,
   "metadata": {},
   "outputs": [],
   "source": [
    "from fastai import *\n",
    "from fastai.vision import *"
   ]
  },
  {
   "cell_type": "code",
   "execution_count": 3,
   "metadata": {},
   "outputs": [
    {
     "data": {
      "text/plain": [
       "'/home/ubuntu/course-v3/nbs/dl1'"
      ]
     },
     "execution_count": 3,
     "metadata": {},
     "output_type": "execute_result"
    }
   ],
   "source": [
    "pwd"
   ]
  },
  {
   "cell_type": "code",
   "execution_count": 4,
   "metadata": {},
   "outputs": [
    {
     "name": "stdout",
     "output_type": "stream",
     "text": [
      "/home/ubuntu/course-v3\n"
     ]
    }
   ],
   "source": [
    "cd ~/course-v3/"
   ]
  },
  {
   "cell_type": "code",
   "execution_count": 5,
   "metadata": {},
   "outputs": [
    {
     "name": "stdout",
     "output_type": "stream",
     "text": [
      "LICENSE              \u001b[0m\u001b[01;34mdata_GPU\u001b[0m/  floyd.yml               \u001b[01;34mnbs\u001b[0m/\r\n",
      "README.md            \u001b[01;34mdocs\u001b[0m/      floyd_requirements.txt  \u001b[01;34mprojects\u001b[0m/\r\n",
      "azure-pipelines.yml  \u001b[01;34mfiles\u001b[0m/     \u001b[01;34mmodels\u001b[0m/                 \u001b[01;34mtools\u001b[0m/\r\n"
     ]
    }
   ],
   "source": [
    "ls"
   ]
  },
  {
   "cell_type": "code",
   "execution_count": 8,
   "metadata": {},
   "outputs": [
    {
     "name": "stdout",
     "output_type": "stream",
     "text": [
      "20181213-path-class.csv\r\n"
     ]
    }
   ],
   "source": [
    "ls projects/breast-histo-PTM/dfs/"
   ]
  },
  {
   "cell_type": "code",
   "execution_count": 12,
   "metadata": {},
   "outputs": [
    {
     "data": {
      "text/html": [
       "<div>\n",
       "<style scoped>\n",
       "    .dataframe tbody tr th:only-of-type {\n",
       "        vertical-align: middle;\n",
       "    }\n",
       "\n",
       "    .dataframe tbody tr th {\n",
       "        vertical-align: top;\n",
       "    }\n",
       "\n",
       "    .dataframe thead th {\n",
       "        text-align: right;\n",
       "    }\n",
       "</style>\n",
       "<table border=\"1\" class=\"dataframe\">\n",
       "  <thead>\n",
       "    <tr style=\"text-align: right;\">\n",
       "      <th></th>\n",
       "      <th>Unnamed: 0</th>\n",
       "      <th>fpaths</th>\n",
       "      <th>fstems</th>\n",
       "      <th>fpaths_str</th>\n",
       "      <th>class_label</th>\n",
       "    </tr>\n",
       "  </thead>\n",
       "  <tbody>\n",
       "    <tr>\n",
       "      <th>0</th>\n",
       "      <td>0</td>\n",
       "      <td>data_GPU/breast_histo_PTM/before/13023/0/13023...</td>\n",
       "      <td>13023_idx5_x1501_y1001_class0</td>\n",
       "      <td>data_GPU/breast_histo_PTM/before/13023/0/13023...</td>\n",
       "      <td>0</td>\n",
       "    </tr>\n",
       "    <tr>\n",
       "      <th>1</th>\n",
       "      <td>1</td>\n",
       "      <td>data_GPU/breast_histo_PTM/before/13023/0/13023...</td>\n",
       "      <td>13023_idx5_x301_y751_class0</td>\n",
       "      <td>data_GPU/breast_histo_PTM/before/13023/0/13023...</td>\n",
       "      <td>0</td>\n",
       "    </tr>\n",
       "    <tr>\n",
       "      <th>2</th>\n",
       "      <td>2</td>\n",
       "      <td>data_GPU/breast_histo_PTM/before/13023/0/13023...</td>\n",
       "      <td>13023_idx5_x1551_y851_class0</td>\n",
       "      <td>data_GPU/breast_histo_PTM/before/13023/0/13023...</td>\n",
       "      <td>0</td>\n",
       "    </tr>\n",
       "    <tr>\n",
       "      <th>3</th>\n",
       "      <td>3</td>\n",
       "      <td>data_GPU/breast_histo_PTM/before/13023/0/13023...</td>\n",
       "      <td>13023_idx5_x401_y1001_class0</td>\n",
       "      <td>data_GPU/breast_histo_PTM/before/13023/0/13023...</td>\n",
       "      <td>0</td>\n",
       "    </tr>\n",
       "    <tr>\n",
       "      <th>4</th>\n",
       "      <td>4</td>\n",
       "      <td>data_GPU/breast_histo_PTM/before/13023/0/13023...</td>\n",
       "      <td>13023_idx5_x501_y1001_class0</td>\n",
       "      <td>data_GPU/breast_histo_PTM/before/13023/0/13023...</td>\n",
       "      <td>0</td>\n",
       "    </tr>\n",
       "  </tbody>\n",
       "</table>\n",
       "</div>"
      ],
      "text/plain": [
       "   Unnamed: 0                                             fpaths  \\\n",
       "0           0  data_GPU/breast_histo_PTM/before/13023/0/13023...   \n",
       "1           1  data_GPU/breast_histo_PTM/before/13023/0/13023...   \n",
       "2           2  data_GPU/breast_histo_PTM/before/13023/0/13023...   \n",
       "3           3  data_GPU/breast_histo_PTM/before/13023/0/13023...   \n",
       "4           4  data_GPU/breast_histo_PTM/before/13023/0/13023...   \n",
       "\n",
       "                          fstems  \\\n",
       "0  13023_idx5_x1501_y1001_class0   \n",
       "1    13023_idx5_x301_y751_class0   \n",
       "2   13023_idx5_x1551_y851_class0   \n",
       "3   13023_idx5_x401_y1001_class0   \n",
       "4   13023_idx5_x501_y1001_class0   \n",
       "\n",
       "                                          fpaths_str  class_label  \n",
       "0  data_GPU/breast_histo_PTM/before/13023/0/13023...            0  \n",
       "1  data_GPU/breast_histo_PTM/before/13023/0/13023...            0  \n",
       "2  data_GPU/breast_histo_PTM/before/13023/0/13023...            0  \n",
       "3  data_GPU/breast_histo_PTM/before/13023/0/13023...            0  \n",
       "4  data_GPU/breast_histo_PTM/before/13023/0/13023...            0  "
      ]
     },
     "execution_count": 12,
     "metadata": {},
     "output_type": "execute_result"
    }
   ],
   "source": [
    "df = pd.read_csv('./projects/breast-histo-PTM/dfs/20181213-path-class.csv'); df.head()"
   ]
  },
  {
   "cell_type": "markdown",
   "metadata": {},
   "source": [
    "# make databunch"
   ]
  },
  {
   "cell_type": "code",
   "execution_count": 13,
   "metadata": {},
   "outputs": [],
   "source": [
    "path = Path('.')"
   ]
  },
  {
   "cell_type": "code",
   "execution_count": 15,
   "metadata": {},
   "outputs": [],
   "source": [
    "tfms = get_transforms(do_flip=True, \n",
    "                      flip_vert=True, \n",
    "                      max_rotate=4., \n",
    "                      max_zoom=1.1, \n",
    "                      max_lighting=0.2, \n",
    "                      max_warp=0., \n",
    "                      p_affine=0.75, \n",
    "                      p_lighting=0.75)"
   ]
  },
  {
   "cell_type": "code",
   "execution_count": 16,
   "metadata": {},
   "outputs": [],
   "source": [
    "data = (ImageItemList.from_df(df=df, path=path, cols='fpaths')\n",
    "                     .random_split_by_pct(valid_pct=0.2, seed=10)\n",
    "                     .label_from_df(cols='class_label')\n",
    "                     .transform(tfms, size=49)\n",
    "                     .databunch(bs=128))"
   ]
  },
  {
   "cell_type": "code",
   "execution_count": 20,
   "metadata": {},
   "outputs": [
    {
     "data": {
      "text/plain": [
       "([0, 1], 2, 222020, 55504)"
      ]
     },
     "execution_count": 20,
     "metadata": {},
     "output_type": "execute_result"
    }
   ],
   "source": [
    "# note that exporting & importing a csv has turned my classes from srings to ints\n",
    "data.classes, data.c, len(data.train_ds), len(data.valid_ds)"
   ]
  },
  {
   "cell_type": "code",
   "execution_count": 17,
   "metadata": {},
   "outputs": [
    {
     "data": {
      "text/plain": [
       "ImageDataBunch;\n",
       "\n",
       "Train: LabelList\n",
       "y: CategoryList (222020 items)\n",
       "[Category 0, Category 0, Category 0, Category 0, Category 0]...\n",
       "Path: .\n",
       "x: ImageItemList (222020 items)\n",
       "[Image (3, 50, 50), Image (3, 50, 50), Image (3, 50, 50), Image (3, 50, 50), Image (3, 50, 50)]...\n",
       "Path: .;\n",
       "\n",
       "Valid: LabelList\n",
       "y: CategoryList (55504 items)\n",
       "[Category 1, Category 0, Category 1, Category 1, Category 1]...\n",
       "Path: .\n",
       "x: ImageItemList (55504 items)\n",
       "[Image (3, 50, 50), Image (3, 50, 50), Image (3, 50, 50), Image (3, 50, 50), Image (3, 50, 50)]...\n",
       "Path: .;\n",
       "\n",
       "Test: None"
      ]
     },
     "execution_count": 17,
     "metadata": {},
     "output_type": "execute_result"
    }
   ],
   "source": [
    "data"
   ]
  },
  {
   "cell_type": "code",
   "execution_count": 33,
   "metadata": {},
   "outputs": [
    {
     "data": {
      "text/plain": [
       "LabelList\n",
       "y: CategoryList (222020 items)\n",
       "[Category 0, Category 0, Category 0, Category 0, Category 0]...\n",
       "Path: .\n",
       "x: ImageItemList (222020 items)\n",
       "[Image (3, 50, 50), Image (3, 50, 50), Image (3, 50, 50), Image (3, 50, 50), Image (3, 50, 50)]...\n",
       "Path: ."
      ]
     },
     "execution_count": 33,
     "metadata": {},
     "output_type": "execute_result"
    }
   ],
   "source": [
    "data.train_ds"
   ]
  },
  {
   "cell_type": "code",
   "execution_count": 34,
   "metadata": {},
   "outputs": [
    {
     "data": {
      "text/plain": [
       "DeviceDataLoader(dl=<torch.utils.data.dataloader.DataLoader object at 0x7f38c442f978>, device=device(type='cuda'), tfms=[], collate_fn=<function data_collate at 0x7f38e3300598>)"
      ]
     },
     "execution_count": 34,
     "metadata": {},
     "output_type": "execute_result"
    }
   ],
   "source": [
    "data.train_dl"
   ]
  },
  {
   "cell_type": "code",
   "execution_count": null,
   "metadata": {},
   "outputs": [],
   "source": []
  }
 ],
 "metadata": {
  "kernelspec": {
   "display_name": "AWS Oregon p2",
   "language": "python",
   "name": "fastai"
  },
  "language_info": {
   "codemirror_mode": {
    "name": "ipython",
    "version": 3
   },
   "file_extension": ".py",
   "mimetype": "text/x-python",
   "name": "python",
   "nbconvert_exporter": "python",
   "pygments_lexer": "ipython3",
   "version": "3.7.0"
  }
 },
 "nbformat": 4,
 "nbformat_minor": 2
}
