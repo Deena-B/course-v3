{
 "cells": [
  {
   "cell_type": "markdown",
   "metadata": {},
   "source": [
    "# Make a dataframe with cities"
   ]
  },
  {
   "cell_type": "code",
   "execution_count": 1,
   "metadata": {},
   "outputs": [],
   "source": [
    "%reload_ext autoreload\n",
    "%autoreload 2\n",
    "%matplotlib inline"
   ]
  },
  {
   "cell_type": "code",
   "execution_count": 2,
   "metadata": {},
   "outputs": [],
   "source": [
    "from fastai import *\n",
    "from fastai.vision import *\n",
    "from fastai.tabular import *"
   ]
  },
  {
   "cell_type": "code",
   "execution_count": 7,
   "metadata": {},
   "outputs": [
    {
     "name": "stdout",
     "output_type": "stream",
     "text": [
      "/Users/Ds2007laptop/Documents/Work/Programming/fastai/courses/course-v3\n"
     ]
    }
   ],
   "source": [
    "cd ~/Documents/Work/Programming/fastai/courses/course-v3/"
   ]
  },
  {
   "cell_type": "code",
   "execution_count": 8,
   "metadata": {},
   "outputs": [
    {
     "name": "stdout",
     "output_type": "stream",
     "text": [
      "LICENSE                 \u001b[34mdocs\u001b[m\u001b[m/                   \u001b[34mnbs\u001b[m\u001b[m/\r\n",
      "README.md               \u001b[34mfiles\u001b[m\u001b[m/                  \u001b[34mtools\u001b[m\u001b[m/\r\n",
      "azure-pipelines.yml     floyd.yml\r\n",
      "\u001b[34mdata_GPU\u001b[m\u001b[m/               floyd_requirements.txt\r\n"
     ]
    }
   ],
   "source": [
    "ls"
   ]
  },
  {
   "cell_type": "code",
   "execution_count": 9,
   "metadata": {},
   "outputs": [
    {
     "name": "stdout",
     "output_type": "stream",
     "text": [
      "\u001b[34mdallas\u001b[m\u001b[m/            \u001b[34mmelbourne\u001b[m\u001b[m/         \u001b[34mnew-york\u001b[m\u001b[m/          \u001b[34msan-francisco\u001b[m\u001b[m/\r\n",
      "dallas.txt         melbourne.txt      new-york.txt       san-francisco.txt\r\n"
     ]
    }
   ],
   "source": [
    "ls data_GPU/city_streets/"
   ]
  },
  {
   "cell_type": "code",
   "execution_count": 10,
   "metadata": {
    "scrolled": true
   },
   "outputs": [
    {
     "data": {
      "text/plain": [
       "[PosixPath('data_GPU/city_streets/melbourne/00000010.jpg'),\n",
       " PosixPath('data_GPU/city_streets/melbourne/00000004.jpg'),\n",
       " PosixPath('data_GPU/city_streets/melbourne/00000005.jpg'),\n",
       " PosixPath('data_GPU/city_streets/melbourne/00000011.jpg'),\n",
       " PosixPath('data_GPU/city_streets/melbourne/00000007.jpg')]"
      ]
     },
     "execution_count": 10,
     "metadata": {},
     "output_type": "execute_result"
    }
   ],
   "source": [
    "# define variable: paths to images\n",
    "fpaths = list(Path('./data_GPU/city_streets/').rglob('*.jpg')); fpaths[:5]"
   ]
  },
  {
   "cell_type": "code",
   "execution_count": 11,
   "metadata": {},
   "outputs": [
    {
     "data": {
      "text/plain": [
       "0    data_GPU/city_streets/melbourne/00000010.jpg\n",
       "1    data_GPU/city_streets/melbourne/00000004.jpg\n",
       "2    data_GPU/city_streets/melbourne/00000005.jpg\n",
       "3    data_GPU/city_streets/melbourne/00000011.jpg\n",
       "4    data_GPU/city_streets/melbourne/00000007.jpg\n",
       "Name: fpaths, dtype: object"
      ]
     },
     "execution_count": 11,
     "metadata": {},
     "output_type": "execute_result"
    }
   ],
   "source": [
    "# put fpaths in a Series\n",
    "fpath_s = pd.Series(fpaths, name='fpaths'); fpath_s.head()"
   ]
  },
  {
   "cell_type": "code",
   "execution_count": 12,
   "metadata": {},
   "outputs": [
    {
     "data": {
      "text/plain": [
       "['00000010.jpg',\n",
       " '00000004.jpg',\n",
       " '00000005.jpg',\n",
       " '00000011.jpg',\n",
       " '00000007.jpg']"
      ]
     },
     "execution_count": 12,
     "metadata": {},
     "output_type": "execute_result"
    }
   ],
   "source": [
    "# define variable filenames as a list\n",
    "fnames = []\n",
    "\n",
    "# populate the list with file names\n",
    "# for each path in file paths\n",
    "for path in fpaths:\n",
    "    fname = path.name           # call the .name function on path\n",
    "    fnames.append(fname)        # add each fname to the list fnames\n",
    "    \n",
    "fnames[:5]    "
   ]
  },
  {
   "cell_type": "code",
   "execution_count": 13,
   "metadata": {},
   "outputs": [
    {
     "data": {
      "text/plain": [
       "0    00000010.jpg\n",
       "1    00000004.jpg\n",
       "2    00000005.jpg\n",
       "3    00000011.jpg\n",
       "4    00000007.jpg\n",
       "Name: fnames, dtype: object"
      ]
     },
     "execution_count": 13,
     "metadata": {},
     "output_type": "execute_result"
    }
   ],
   "source": [
    "# create Series with fnames\n",
    "fname_s = pd.Series(fnames, name='fnames'); fname_s.head()"
   ]
  },
  {
   "cell_type": "code",
   "execution_count": 14,
   "metadata": {},
   "outputs": [
    {
     "data": {
      "text/plain": [
       "[PosixPath('data_GPU/city_streets/melbourne'),\n",
       " PosixPath('data_GPU/city_streets/melbourne'),\n",
       " PosixPath('data_GPU/city_streets/melbourne'),\n",
       " PosixPath('data_GPU/city_streets/melbourne'),\n",
       " PosixPath('data_GPU/city_streets/melbourne')]"
      ]
     },
     "execution_count": 14,
     "metadata": {},
     "output_type": "execute_result"
    }
   ],
   "source": [
    "# define variable for parent \n",
    "fparents = []\n",
    "\n",
    "for path in fpaths:\n",
    "    fparent = path.parent\n",
    "    fparents.append(fparent)\n",
    "    \n",
    "fparents[:5]"
   ]
  },
  {
   "cell_type": "code",
   "execution_count": 15,
   "metadata": {},
   "outputs": [
    {
     "data": {
      "text/plain": [
       "0    data_GPU/city_streets/melbourne\n",
       "1    data_GPU/city_streets/melbourne\n",
       "2    data_GPU/city_streets/melbourne\n",
       "3    data_GPU/city_streets/melbourne\n",
       "4    data_GPU/city_streets/melbourne\n",
       "Name: fparents, dtype: object"
      ]
     },
     "execution_count": 15,
     "metadata": {},
     "output_type": "execute_result"
    }
   ],
   "source": [
    "# make a Series\n",
    "fparent_s = pd.Series(fparents, name='fparents'); fparent_s.head()"
   ]
  },
  {
   "cell_type": "code",
   "execution_count": 16,
   "metadata": {},
   "outputs": [
    {
     "data": {
      "text/plain": [
       "['00000010', '00000004', '00000005', '00000011', '00000007']"
      ]
     },
     "execution_count": 16,
     "metadata": {},
     "output_type": "execute_result"
    }
   ],
   "source": [
    "# get filename before extension\n",
    "fstems = []\n",
    "\n",
    "for path in fpaths:\n",
    "    fstem = path.stem\n",
    "    fstems.append(fstem)\n",
    "    \n",
    "fstems[:5]"
   ]
  },
  {
   "cell_type": "code",
   "execution_count": 17,
   "metadata": {},
   "outputs": [
    {
     "data": {
      "text/html": [
       "<div>\n",
       "<style scoped>\n",
       "    .dataframe tbody tr th:only-of-type {\n",
       "        vertical-align: middle;\n",
       "    }\n",
       "\n",
       "    .dataframe tbody tr th {\n",
       "        vertical-align: top;\n",
       "    }\n",
       "\n",
       "    .dataframe thead th {\n",
       "        text-align: right;\n",
       "    }\n",
       "</style>\n",
       "<table border=\"1\" class=\"dataframe\">\n",
       "  <thead>\n",
       "    <tr style=\"text-align: right;\">\n",
       "      <th></th>\n",
       "      <th>fpaths</th>\n",
       "      <th>fparents</th>\n",
       "      <th>fnames</th>\n",
       "    </tr>\n",
       "  </thead>\n",
       "  <tbody>\n",
       "    <tr>\n",
       "      <th>0</th>\n",
       "      <td>data_GPU/city_streets/melbourne/00000010.jpg</td>\n",
       "      <td>data_GPU/city_streets/melbourne</td>\n",
       "      <td>00000010.jpg</td>\n",
       "    </tr>\n",
       "    <tr>\n",
       "      <th>1</th>\n",
       "      <td>data_GPU/city_streets/melbourne/00000004.jpg</td>\n",
       "      <td>data_GPU/city_streets/melbourne</td>\n",
       "      <td>00000004.jpg</td>\n",
       "    </tr>\n",
       "    <tr>\n",
       "      <th>2</th>\n",
       "      <td>data_GPU/city_streets/melbourne/00000005.jpg</td>\n",
       "      <td>data_GPU/city_streets/melbourne</td>\n",
       "      <td>00000005.jpg</td>\n",
       "    </tr>\n",
       "    <tr>\n",
       "      <th>3</th>\n",
       "      <td>data_GPU/city_streets/melbourne/00000011.jpg</td>\n",
       "      <td>data_GPU/city_streets/melbourne</td>\n",
       "      <td>00000011.jpg</td>\n",
       "    </tr>\n",
       "    <tr>\n",
       "      <th>4</th>\n",
       "      <td>data_GPU/city_streets/melbourne/00000007.jpg</td>\n",
       "      <td>data_GPU/city_streets/melbourne</td>\n",
       "      <td>00000007.jpg</td>\n",
       "    </tr>\n",
       "  </tbody>\n",
       "</table>\n",
       "</div>"
      ],
      "text/plain": [
       "                                         fpaths  \\\n",
       "0  data_GPU/city_streets/melbourne/00000010.jpg   \n",
       "1  data_GPU/city_streets/melbourne/00000004.jpg   \n",
       "2  data_GPU/city_streets/melbourne/00000005.jpg   \n",
       "3  data_GPU/city_streets/melbourne/00000011.jpg   \n",
       "4  data_GPU/city_streets/melbourne/00000007.jpg   \n",
       "\n",
       "                          fparents        fnames  \n",
       "0  data_GPU/city_streets/melbourne  00000010.jpg  \n",
       "1  data_GPU/city_streets/melbourne  00000004.jpg  \n",
       "2  data_GPU/city_streets/melbourne  00000005.jpg  \n",
       "3  data_GPU/city_streets/melbourne  00000011.jpg  \n",
       "4  data_GPU/city_streets/melbourne  00000007.jpg  "
      ]
     },
     "execution_count": 17,
     "metadata": {},
     "output_type": "execute_result"
    }
   ],
   "source": [
    "# concatonate two Series to make a dataframe\n",
    "df = pd.concat([fpath_s, fparent_s, fname_s], axis=1); df.head()"
   ]
  },
  {
   "cell_type": "code",
   "execution_count": 18,
   "metadata": {},
   "outputs": [
    {
     "data": {
      "text/html": [
       "<div>\n",
       "<style scoped>\n",
       "    .dataframe tbody tr th:only-of-type {\n",
       "        vertical-align: middle;\n",
       "    }\n",
       "\n",
       "    .dataframe tbody tr th {\n",
       "        vertical-align: top;\n",
       "    }\n",
       "\n",
       "    .dataframe thead th {\n",
       "        text-align: right;\n",
       "    }\n",
       "</style>\n",
       "<table border=\"1\" class=\"dataframe\">\n",
       "  <thead>\n",
       "    <tr style=\"text-align: right;\">\n",
       "      <th></th>\n",
       "      <th>fpaths</th>\n",
       "      <th>fparents</th>\n",
       "      <th>fnames</th>\n",
       "      <th>fparents_str</th>\n",
       "    </tr>\n",
       "  </thead>\n",
       "  <tbody>\n",
       "    <tr>\n",
       "      <th>0</th>\n",
       "      <td>data_GPU/city_streets/melbourne/00000010.jpg</td>\n",
       "      <td>data_GPU/city_streets/melbourne</td>\n",
       "      <td>00000010.jpg</td>\n",
       "      <td>data_GPU/city_streets/melbourne</td>\n",
       "    </tr>\n",
       "    <tr>\n",
       "      <th>1</th>\n",
       "      <td>data_GPU/city_streets/melbourne/00000004.jpg</td>\n",
       "      <td>data_GPU/city_streets/melbourne</td>\n",
       "      <td>00000004.jpg</td>\n",
       "      <td>data_GPU/city_streets/melbourne</td>\n",
       "    </tr>\n",
       "    <tr>\n",
       "      <th>2</th>\n",
       "      <td>data_GPU/city_streets/melbourne/00000005.jpg</td>\n",
       "      <td>data_GPU/city_streets/melbourne</td>\n",
       "      <td>00000005.jpg</td>\n",
       "      <td>data_GPU/city_streets/melbourne</td>\n",
       "    </tr>\n",
       "    <tr>\n",
       "      <th>3</th>\n",
       "      <td>data_GPU/city_streets/melbourne/00000011.jpg</td>\n",
       "      <td>data_GPU/city_streets/melbourne</td>\n",
       "      <td>00000011.jpg</td>\n",
       "      <td>data_GPU/city_streets/melbourne</td>\n",
       "    </tr>\n",
       "    <tr>\n",
       "      <th>4</th>\n",
       "      <td>data_GPU/city_streets/melbourne/00000007.jpg</td>\n",
       "      <td>data_GPU/city_streets/melbourne</td>\n",
       "      <td>00000007.jpg</td>\n",
       "      <td>data_GPU/city_streets/melbourne</td>\n",
       "    </tr>\n",
       "  </tbody>\n",
       "</table>\n",
       "</div>"
      ],
      "text/plain": [
       "                                         fpaths  \\\n",
       "0  data_GPU/city_streets/melbourne/00000010.jpg   \n",
       "1  data_GPU/city_streets/melbourne/00000004.jpg   \n",
       "2  data_GPU/city_streets/melbourne/00000005.jpg   \n",
       "3  data_GPU/city_streets/melbourne/00000011.jpg   \n",
       "4  data_GPU/city_streets/melbourne/00000007.jpg   \n",
       "\n",
       "                          fparents        fnames  \\\n",
       "0  data_GPU/city_streets/melbourne  00000010.jpg   \n",
       "1  data_GPU/city_streets/melbourne  00000004.jpg   \n",
       "2  data_GPU/city_streets/melbourne  00000005.jpg   \n",
       "3  data_GPU/city_streets/melbourne  00000011.jpg   \n",
       "4  data_GPU/city_streets/melbourne  00000007.jpg   \n",
       "\n",
       "                      fparents_str  \n",
       "0  data_GPU/city_streets/melbourne  \n",
       "1  data_GPU/city_streets/melbourne  \n",
       "2  data_GPU/city_streets/melbourne  \n",
       "3  data_GPU/city_streets/melbourne  \n",
       "4  data_GPU/city_streets/melbourne  "
      ]
     },
     "execution_count": 18,
     "metadata": {},
     "output_type": "execute_result"
    }
   ],
   "source": [
    "df['fparents_str'] = df['fparents'].apply(lambda x: str(x)); df.head()"
   ]
  },
  {
   "cell_type": "code",
   "execution_count": 19,
   "metadata": {},
   "outputs": [
    {
     "data": {
      "text/html": [
       "<div>\n",
       "<style scoped>\n",
       "    .dataframe tbody tr th:only-of-type {\n",
       "        vertical-align: middle;\n",
       "    }\n",
       "\n",
       "    .dataframe tbody tr th {\n",
       "        vertical-align: top;\n",
       "    }\n",
       "\n",
       "    .dataframe thead th {\n",
       "        text-align: right;\n",
       "    }\n",
       "</style>\n",
       "<table border=\"1\" class=\"dataframe\">\n",
       "  <thead>\n",
       "    <tr style=\"text-align: right;\">\n",
       "      <th></th>\n",
       "      <th>fpaths</th>\n",
       "      <th>fparents</th>\n",
       "      <th>fnames</th>\n",
       "      <th>fparents_str</th>\n",
       "      <th>class_label</th>\n",
       "    </tr>\n",
       "  </thead>\n",
       "  <tbody>\n",
       "    <tr>\n",
       "      <th>0</th>\n",
       "      <td>data_GPU/city_streets/melbourne/00000010.jpg</td>\n",
       "      <td>data_GPU/city_streets/melbourne</td>\n",
       "      <td>00000010.jpg</td>\n",
       "      <td>data_GPU/city_streets/melbourne</td>\n",
       "      <td>melbourne</td>\n",
       "    </tr>\n",
       "    <tr>\n",
       "      <th>1</th>\n",
       "      <td>data_GPU/city_streets/melbourne/00000004.jpg</td>\n",
       "      <td>data_GPU/city_streets/melbourne</td>\n",
       "      <td>00000004.jpg</td>\n",
       "      <td>data_GPU/city_streets/melbourne</td>\n",
       "      <td>melbourne</td>\n",
       "    </tr>\n",
       "    <tr>\n",
       "      <th>2</th>\n",
       "      <td>data_GPU/city_streets/melbourne/00000005.jpg</td>\n",
       "      <td>data_GPU/city_streets/melbourne</td>\n",
       "      <td>00000005.jpg</td>\n",
       "      <td>data_GPU/city_streets/melbourne</td>\n",
       "      <td>melbourne</td>\n",
       "    </tr>\n",
       "    <tr>\n",
       "      <th>3</th>\n",
       "      <td>data_GPU/city_streets/melbourne/00000011.jpg</td>\n",
       "      <td>data_GPU/city_streets/melbourne</td>\n",
       "      <td>00000011.jpg</td>\n",
       "      <td>data_GPU/city_streets/melbourne</td>\n",
       "      <td>melbourne</td>\n",
       "    </tr>\n",
       "    <tr>\n",
       "      <th>4</th>\n",
       "      <td>data_GPU/city_streets/melbourne/00000007.jpg</td>\n",
       "      <td>data_GPU/city_streets/melbourne</td>\n",
       "      <td>00000007.jpg</td>\n",
       "      <td>data_GPU/city_streets/melbourne</td>\n",
       "      <td>melbourne</td>\n",
       "    </tr>\n",
       "  </tbody>\n",
       "</table>\n",
       "</div>"
      ],
      "text/plain": [
       "                                         fpaths  \\\n",
       "0  data_GPU/city_streets/melbourne/00000010.jpg   \n",
       "1  data_GPU/city_streets/melbourne/00000004.jpg   \n",
       "2  data_GPU/city_streets/melbourne/00000005.jpg   \n",
       "3  data_GPU/city_streets/melbourne/00000011.jpg   \n",
       "4  data_GPU/city_streets/melbourne/00000007.jpg   \n",
       "\n",
       "                          fparents        fnames  \\\n",
       "0  data_GPU/city_streets/melbourne  00000010.jpg   \n",
       "1  data_GPU/city_streets/melbourne  00000004.jpg   \n",
       "2  data_GPU/city_streets/melbourne  00000005.jpg   \n",
       "3  data_GPU/city_streets/melbourne  00000011.jpg   \n",
       "4  data_GPU/city_streets/melbourne  00000007.jpg   \n",
       "\n",
       "                      fparents_str class_label  \n",
       "0  data_GPU/city_streets/melbourne   melbourne  \n",
       "1  data_GPU/city_streets/melbourne   melbourne  \n",
       "2  data_GPU/city_streets/melbourne   melbourne  \n",
       "3  data_GPU/city_streets/melbourne   melbourne  \n",
       "4  data_GPU/city_streets/melbourne   melbourne  "
      ]
     },
     "execution_count": 19,
     "metadata": {},
     "output_type": "execute_result"
    }
   ],
   "source": [
    "df['class_label'] = df['fparents_str'].str.split(\"/\", expand=True)[2]; df.head()"
   ]
  },
  {
   "cell_type": "markdown",
   "metadata": {},
   "source": [
    "## Make data = ImageItemList.from_df()"
   ]
  },
  {
   "cell_type": "code",
   "execution_count": 27,
   "metadata": {},
   "outputs": [],
   "source": [
    "doc(ImageItemList.from_df)"
   ]
  },
  {
   "cell_type": "code",
   "execution_count": 48,
   "metadata": {},
   "outputs": [],
   "source": [
    "# create path & folder to put output into\n",
    "path = Path('.')"
   ]
  },
  {
   "cell_type": "code",
   "execution_count": 28,
   "metadata": {},
   "outputs": [
    {
     "data": {
      "text/plain": [
       "'/Users/Ds2007laptop/Documents/Work/Programming/fastai/courses/course-v3'"
      ]
     },
     "execution_count": 28,
     "metadata": {},
     "output_type": "execute_result"
    }
   ],
   "source": [
    "pwd"
   ]
  },
  {
   "cell_type": "code",
   "execution_count": 30,
   "metadata": {},
   "outputs": [
    {
     "name": "stdout",
     "output_type": "stream",
     "text": [
      "\u001b[34mdallas\u001b[m\u001b[m/            \u001b[34mmelbourne\u001b[m\u001b[m/         \u001b[34mnew-york\u001b[m\u001b[m/          \u001b[34msan-francisco\u001b[m\u001b[m/\r\n",
      "dallas.txt         melbourne.txt      new-york.txt       san-francisco.txt\r\n"
     ]
    }
   ],
   "source": [
    "ls data_GPU/city_streets"
   ]
  },
  {
   "cell_type": "code",
   "execution_count": 21,
   "metadata": {
    "collapsed": true
   },
   "outputs": [
    {
     "data": {
      "text/plain": [
       "[PosixPath('data_GPU'),\n",
       " PosixPath('tools'),\n",
       " PosixPath('LICENSE'),\n",
       " PosixPath('nbs'),\n",
       " PosixPath('docs'),\n",
       " PosixPath('azure-pipelines.yml'),\n",
       " PosixPath('README.md'),\n",
       " PosixPath('floyd.yml'),\n",
       " PosixPath('.gitignore'),\n",
       " PosixPath('.gitattributes'),\n",
       " PosixPath('files'),\n",
       " PosixPath('.git'),\n",
       " PosixPath('.gitconfig'),\n",
       " PosixPath('.gitignore~'),\n",
       " PosixPath('floyd_requirements.txt')]"
      ]
     },
     "execution_count": 21,
     "metadata": {},
     "output_type": "execute_result"
    }
   ],
   "source": [
    "path.ls()"
   ]
  },
  {
   "cell_type": "code",
   "execution_count": 35,
   "metadata": {},
   "outputs": [
    {
     "data": {
      "text/html": [
       "<div>\n",
       "<style scoped>\n",
       "    .dataframe tbody tr th:only-of-type {\n",
       "        vertical-align: middle;\n",
       "    }\n",
       "\n",
       "    .dataframe tbody tr th {\n",
       "        vertical-align: top;\n",
       "    }\n",
       "\n",
       "    .dataframe thead th {\n",
       "        text-align: right;\n",
       "    }\n",
       "</style>\n",
       "<table border=\"1\" class=\"dataframe\">\n",
       "  <thead>\n",
       "    <tr style=\"text-align: right;\">\n",
       "      <th></th>\n",
       "      <th>fpaths</th>\n",
       "      <th>fparents</th>\n",
       "      <th>fnames</th>\n",
       "      <th>fparents_str</th>\n",
       "      <th>class_label</th>\n",
       "    </tr>\n",
       "  </thead>\n",
       "  <tbody>\n",
       "    <tr>\n",
       "      <th>0</th>\n",
       "      <td>data_GPU/city_streets/melbourne/00000010.jpg</td>\n",
       "      <td>data_GPU/city_streets/melbourne</td>\n",
       "      <td>00000010.jpg</td>\n",
       "      <td>data_GPU/city_streets/melbourne</td>\n",
       "      <td>melbourne</td>\n",
       "    </tr>\n",
       "    <tr>\n",
       "      <th>1</th>\n",
       "      <td>data_GPU/city_streets/melbourne/00000004.jpg</td>\n",
       "      <td>data_GPU/city_streets/melbourne</td>\n",
       "      <td>00000004.jpg</td>\n",
       "      <td>data_GPU/city_streets/melbourne</td>\n",
       "      <td>melbourne</td>\n",
       "    </tr>\n",
       "    <tr>\n",
       "      <th>2</th>\n",
       "      <td>data_GPU/city_streets/melbourne/00000005.jpg</td>\n",
       "      <td>data_GPU/city_streets/melbourne</td>\n",
       "      <td>00000005.jpg</td>\n",
       "      <td>data_GPU/city_streets/melbourne</td>\n",
       "      <td>melbourne</td>\n",
       "    </tr>\n",
       "    <tr>\n",
       "      <th>3</th>\n",
       "      <td>data_GPU/city_streets/melbourne/00000011.jpg</td>\n",
       "      <td>data_GPU/city_streets/melbourne</td>\n",
       "      <td>00000011.jpg</td>\n",
       "      <td>data_GPU/city_streets/melbourne</td>\n",
       "      <td>melbourne</td>\n",
       "    </tr>\n",
       "    <tr>\n",
       "      <th>4</th>\n",
       "      <td>data_GPU/city_streets/melbourne/00000007.jpg</td>\n",
       "      <td>data_GPU/city_streets/melbourne</td>\n",
       "      <td>00000007.jpg</td>\n",
       "      <td>data_GPU/city_streets/melbourne</td>\n",
       "      <td>melbourne</td>\n",
       "    </tr>\n",
       "  </tbody>\n",
       "</table>\n",
       "</div>"
      ],
      "text/plain": [
       "                                         fpaths  \\\n",
       "0  data_GPU/city_streets/melbourne/00000010.jpg   \n",
       "1  data_GPU/city_streets/melbourne/00000004.jpg   \n",
       "2  data_GPU/city_streets/melbourne/00000005.jpg   \n",
       "3  data_GPU/city_streets/melbourne/00000011.jpg   \n",
       "4  data_GPU/city_streets/melbourne/00000007.jpg   \n",
       "\n",
       "                          fparents        fnames  \\\n",
       "0  data_GPU/city_streets/melbourne  00000010.jpg   \n",
       "1  data_GPU/city_streets/melbourne  00000004.jpg   \n",
       "2  data_GPU/city_streets/melbourne  00000005.jpg   \n",
       "3  data_GPU/city_streets/melbourne  00000011.jpg   \n",
       "4  data_GPU/city_streets/melbourne  00000007.jpg   \n",
       "\n",
       "                      fparents_str class_label  \n",
       "0  data_GPU/city_streets/melbourne   melbourne  \n",
       "1  data_GPU/city_streets/melbourne   melbourne  \n",
       "2  data_GPU/city_streets/melbourne   melbourne  \n",
       "3  data_GPU/city_streets/melbourne   melbourne  \n",
       "4  data_GPU/city_streets/melbourne   melbourne  "
      ]
     },
     "execution_count": 35,
     "metadata": {},
     "output_type": "execute_result"
    }
   ],
   "source": [
    "df.head()"
   ]
  },
  {
   "cell_type": "code",
   "execution_count": 45,
   "metadata": {},
   "outputs": [],
   "source": [
    "# path/cols needs to lead to the image file \n",
    "# assign the path variable to the path that leads to the folder data/GPU \n",
    "# both `path = '.'` and `path = Path('.')` work :)\n",
    "path = '.'"
   ]
  },
  {
   "cell_type": "code",
   "execution_count": 49,
   "metadata": {},
   "outputs": [],
   "source": [
    "data = ImageItemList.from_df(path=path, df=df, cols='fpaths')"
   ]
  },
  {
   "cell_type": "code",
   "execution_count": 50,
   "metadata": {},
   "outputs": [
    {
     "data": {
      "text/plain": [
       "ImageItemList (89 items)\n",
       "[Image (3, 523, 800), Image (3, 467, 700), Image (3, 467, 700), Image (3, 957, 1300), Image (3, 349, 620)]...\n",
       "Path: ."
      ]
     },
     "execution_count": 50,
     "metadata": {},
     "output_type": "execute_result"
    }
   ],
   "source": [
    "data"
   ]
  },
  {
   "cell_type": "markdown",
   "metadata": {},
   "source": [
    "# .split data into training and the validation sets"
   ]
  },
  {
   "cell_type": "code",
   "execution_count": 52,
   "metadata": {},
   "outputs": [],
   "source": [
    "data = (ImageItemList.from_df(df=df, path=path, cols='fpaths')\n",
    "                     .random_split_by_pct(valid_pct=0.2, seed=1))"
   ]
  },
  {
   "cell_type": "code",
   "execution_count": 53,
   "metadata": {},
   "outputs": [
    {
     "data": {
      "text/plain": [
       "ItemLists;\n",
       "Train: ImageItemList (72 items)\n",
       "[Image (3, 523, 800), Image (3, 467, 700), Image (3, 467, 700), Image (3, 957, 1300), Image (3, 349, 620)]...\n",
       "Path: .;\n",
       "Valid: ImageItemList (17 items)\n",
       "[Image (3, 464, 700), Image (3, 1406, 2100), Image (3, 169, 225), Image (3, 720, 1280), Image (3, 1182, 2048)]...\n",
       "Path: .;\n",
       "Test: None"
      ]
     },
     "execution_count": 53,
     "metadata": {},
     "output_type": "execute_result"
    }
   ],
   "source": [
    "data"
   ]
  },
  {
   "cell_type": "markdown",
   "metadata": {},
   "source": [
    "# Add .label_from_df"
   ]
  },
  {
   "cell_type": "code",
   "execution_count": 54,
   "metadata": {},
   "outputs": [],
   "source": [
    "data = (ImageItemList.from_df(df=df, path=path, cols='fpaths')\n",
    "                     .random_split_by_pct(valid_pct=0.2, seed=1)\n",
    "                     .label_from_df(cols='class_label'))"
   ]
  },
  {
   "cell_type": "code",
   "execution_count": 55,
   "metadata": {},
   "outputs": [
    {
     "data": {
      "text/plain": [
       "LabelLists;\n",
       "Train: LabelList\n",
       "y: CategoryList (72 items)\n",
       "[Category melbourne, Category melbourne, Category melbourne, Category melbourne, Category melbourne]...\n",
       "Path: .\n",
       "x: ImageItemList (72 items)\n",
       "[Image (3, 523, 800), Image (3, 467, 700), Image (3, 467, 700), Image (3, 957, 1300), Image (3, 349, 620)]...\n",
       "Path: .;\n",
       "Valid: LabelList\n",
       "y: CategoryList (17 items)\n",
       "[Category dallas, Category san-francisco, Category dallas, Category dallas, Category san-francisco]...\n",
       "Path: .\n",
       "x: ImageItemList (17 items)\n",
       "[Image (3, 464, 700), Image (3, 1406, 2100), Image (3, 169, 225), Image (3, 720, 1280), Image (3, 1182, 2048)]...\n",
       "Path: .;\n",
       "Test: None"
      ]
     },
     "execution_count": 55,
     "metadata": {},
     "output_type": "execute_result"
    }
   ],
   "source": [
    "data"
   ]
  },
  {
   "cell_type": "markdown",
   "metadata": {},
   "source": [
    "# make databunch"
   ]
  },
  {
   "cell_type": "code",
   "execution_count": 56,
   "metadata": {},
   "outputs": [],
   "source": [
    "data = (ImageItemList.from_df(df=df, path=path, cols='fpaths')\n",
    "                     .random_split_by_pct(valid_pct=0.2, seed=1)\n",
    "                     .label_from_df(cols='class_label')\n",
    "                     .databunch())"
   ]
  },
  {
   "cell_type": "code",
   "execution_count": 57,
   "metadata": {},
   "outputs": [
    {
     "data": {
      "text/plain": [
       "ImageDataBunch;\n",
       "Train: LabelList\n",
       "y: CategoryList (72 items)\n",
       "[Category melbourne, Category melbourne, Category melbourne, Category melbourne, Category melbourne]...\n",
       "Path: .\n",
       "x: ImageItemList (72 items)\n",
       "[Image (3, 523, 800), Image (3, 467, 700), Image (3, 467, 700), Image (3, 957, 1300), Image (3, 349, 620)]...\n",
       "Path: .;\n",
       "Valid: LabelList\n",
       "y: CategoryList (17 items)\n",
       "[Category dallas, Category san-francisco, Category dallas, Category dallas, Category san-francisco]...\n",
       "Path: .\n",
       "x: ImageItemList (17 items)\n",
       "[Image (3, 464, 700), Image (3, 1406, 2100), Image (3, 169, 225), Image (3, 720, 1280), Image (3, 1182, 2048)]...\n",
       "Path: .;\n",
       "Test: None"
      ]
     },
     "execution_count": 57,
     "metadata": {},
     "output_type": "execute_result"
    }
   ],
   "source": [
    "data"
   ]
  },
  {
   "cell_type": "markdown",
   "metadata": {},
   "source": [
    "# see portions of dataset"
   ]
  },
  {
   "cell_type": "code",
   "execution_count": 60,
   "metadata": {},
   "outputs": [
    {
     "data": {
      "text/plain": [
       "LabelList\n",
       "y: CategoryList (72 items)\n",
       "[Category melbourne, Category melbourne, Category melbourne, Category melbourne, Category melbourne]...\n",
       "Path: .\n",
       "x: ImageItemList (72 items)\n",
       "[Image (3, 523, 800), Image (3, 467, 700), Image (3, 467, 700), Image (3, 957, 1300), Image (3, 349, 620)]...\n",
       "Path: ."
      ]
     },
     "execution_count": 60,
     "metadata": {},
     "output_type": "execute_result"
    }
   ],
   "source": [
    "data.train_ds"
   ]
  },
  {
   "cell_type": "code",
   "execution_count": 61,
   "metadata": {},
   "outputs": [
    {
     "data": {
      "text/plain": [
       "LabelList\n",
       "y: CategoryList (17 items)\n",
       "[Category dallas, Category san-francisco, Category dallas, Category dallas, Category san-francisco]...\n",
       "Path: .\n",
       "x: ImageItemList (17 items)\n",
       "[Image (3, 464, 700), Image (3, 1406, 2100), Image (3, 169, 225), Image (3, 720, 1280), Image (3, 1182, 2048)]...\n",
       "Path: ."
      ]
     },
     "execution_count": 61,
     "metadata": {},
     "output_type": "execute_result"
    }
   ],
   "source": [
    "data.valid_ds"
   ]
  },
  {
   "cell_type": "code",
   "execution_count": 62,
   "metadata": {},
   "outputs": [
    {
     "data": {
      "text/plain": [
       "(Image (3, 464, 700), Category dallas)"
      ]
     },
     "execution_count": 62,
     "metadata": {},
     "output_type": "execute_result"
    }
   ],
   "source": [
    "data.valid_ds[0]"
   ]
  },
  {
   "cell_type": "code",
   "execution_count": null,
   "metadata": {},
   "outputs": [],
   "source": []
  },
  {
   "cell_type": "code",
   "execution_count": null,
   "metadata": {},
   "outputs": [],
   "source": []
  },
  {
   "cell_type": "code",
   "execution_count": null,
   "metadata": {},
   "outputs": [],
   "source": []
  },
  {
   "cell_type": "code",
   "execution_count": null,
   "metadata": {},
   "outputs": [],
   "source": []
  },
  {
   "cell_type": "code",
   "execution_count": null,
   "metadata": {},
   "outputs": [],
   "source": []
  },
  {
   "cell_type": "code",
   "execution_count": 22,
   "metadata": {},
   "outputs": [],
   "source": [
    "np.random.seed(1)"
   ]
  },
  {
   "cell_type": "code",
   "execution_count": 18,
   "metadata": {},
   "outputs": [],
   "source": [
    "# create variable with transforms\n",
    "# size sets the size of the imagae\n",
    "# do_crop=False adds padding on the side(s) that needs to get bigger\n",
    "# padding_mode reflection is best, like looking in a mirror\n",
    "# ResizeMethod.PAD\n",
    "# city_tfms = get_transforms(size=128, do_crop=False, padding_mode='reflection')\n",
    "\n",
    "\n",
    "# resize_method=ResizeMethod.PAD)"
   ]
  },
  {
   "cell_type": "code",
   "execution_count": 23,
   "metadata": {},
   "outputs": [],
   "source": [
    "# build pathnames to my images\n",
    "# path = Look through all folders within parent folder of path\n",
    "# cols = column names\n",
    "cols = 'fnames', 'classes'"
   ]
  },
  {
   "cell_type": "code",
   "execution_count": 24,
   "metadata": {},
   "outputs": [
    {
     "ename": "AttributeError",
     "evalue": "'PosixPath' object has no attribute 'fname'",
     "output_type": "error",
     "traceback": [
      "\u001b[0;31m---------------------------------------------------------------------------\u001b[0m",
      "\u001b[0;31mAttributeError\u001b[0m                            Traceback (most recent call last)",
      "\u001b[0;32m<ipython-input-24-670e9da0465a>\u001b[0m in \u001b[0;36m<module>\u001b[0;34m()\u001b[0m\n\u001b[1;32m      1\u001b[0m \u001b[0;31m# will generate\u001b[0m\u001b[0;34m\u001b[0m\u001b[0;34m\u001b[0m\u001b[0m\n\u001b[0;32m----> 2\u001b[0;31m \u001b[0mpath\u001b[0m\u001b[0;34m.\u001b[0m\u001b[0mfname\u001b[0m\u001b[0;34m.\u001b[0m\u001b[0msuffix\u001b[0m\u001b[0;34m\u001b[0m\u001b[0m\n\u001b[0m\u001b[1;32m      3\u001b[0m \u001b[0;34m\u001b[0m\u001b[0m\n\u001b[1;32m      4\u001b[0m \u001b[0;31m# will put a list into folder\u001b[0m\u001b[0;34m\u001b[0m\u001b[0;34m\u001b[0m\u001b[0m\n",
      "\u001b[0;31mAttributeError\u001b[0m: 'PosixPath' object has no attribute 'fname'"
     ]
    }
   ],
   "source": [
    "# will generate\n",
    "# path.fname.suffix\n",
    "\n",
    "# will put a list into folder"
   ]
  },
  {
   "cell_type": "code",
   "execution_count": null,
   "metadata": {},
   "outputs": [],
   "source": [
    "# path that I am in now"
   ]
  },
  {
   "cell_type": "code",
   "execution_count": null,
   "metadata": {},
   "outputs": [],
   "source": [
    "# path/folder/col=fname\n",
    "\n"
   ]
  },
  {
   "cell_type": "code",
   "execution_count": null,
   "metadata": {},
   "outputs": [],
   "source": [
    "# use .from_folder"
   ]
  },
  {
   "cell_type": "code",
   "execution_count": null,
   "metadata": {},
   "outputs": [],
   "source": [
    "dataframe looks like planet csv file\n",
    "filenames labels"
   ]
  },
  {
   "cell_type": "code",
   "execution_count": null,
   "metadata": {},
   "outputs": [],
   "source": []
  },
  {
   "cell_type": "code",
   "execution_count": null,
   "metadata": {},
   "outputs": [],
   "source": []
  },
  {
   "cell_type": "code",
   "execution_count": null,
   "metadata": {},
   "outputs": [],
   "source": []
  },
  {
   "cell_type": "code",
   "execution_count": null,
   "metadata": {},
   "outputs": [],
   "source": []
  },
  {
   "cell_type": "code",
   "execution_count": null,
   "metadata": {},
   "outputs": [],
   "source": []
  },
  {
   "cell_type": "code",
   "execution_count": null,
   "metadata": {},
   "outputs": [],
   "source": []
  },
  {
   "cell_type": "code",
   "execution_count": null,
   "metadata": {},
   "outputs": [],
   "source": []
  }
 ],
 "metadata": {
  "kernelspec": {
   "display_name": "local fastai env",
   "language": "python",
   "name": "fastai"
  },
  "language_info": {
   "codemirror_mode": {
    "name": "ipython",
    "version": 3
   },
   "file_extension": ".py",
   "mimetype": "text/x-python",
   "name": "python",
   "nbconvert_exporter": "python",
   "pygments_lexer": "ipython3",
   "version": "3.7.0"
  }
 },
 "nbformat": 4,
 "nbformat_minor": 2
}
